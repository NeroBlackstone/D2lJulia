{
 "cells": [
  {
   "cell_type": "markdown",
   "id": "8a47f978-a446-42f7-9b72-585d45a4d0c8",
   "metadata": {},
   "source": [
    "# Concise Implementation of Softmax Regression\n",
    "Just as high-level deep learning frameworks made it easier to implement linear regression (see Section 3.5), they are similarly convenient here.\n",
    "\n",
    "## Defining the Model\n",
    "\n",
    "As in Section 3.5, we construct our fully connected layer using the built-in layer. We use a `flatten` layer to reshape arbitrarly-shaped input into a matrix-shaped output, preserving the size of the last dimension.."
   ]
  },
  {
   "cell_type": "code",
   "execution_count": 1,
   "id": "216f6688-aebe-461d-ba07-b8617cc25b88",
   "metadata": {},
   "outputs": [
    {
     "data": {
      "text/plain": [
       "Chain(\n",
       "  Flux.flatten,\n",
       "  Dense(784 => 10),                     \u001b[90m# 7_850 parameters\u001b[39m\n",
       ") "
      ]
     },
     "execution_count": 1,
     "metadata": {},
     "output_type": "execute_result"
    }
   ],
   "source": [
    "using Flux\n",
    "model = Chain(Flux.flatten,Dense(28*28=>10))"
   ]
  },
  {
   "cell_type": "markdown",
   "id": "75088c25-3917-425b-bb3a-78d647c98eaa",
   "metadata": {},
   "source": [
    "\n",
    "This avoids both overflow and underflow. We will want to keep the conventional softmax function handy in case we ever want to evaluate the output probabilities by our model. But instead of passing softmax probabilities into our new loss function, we just pass the logits and compute the softmax and its log all at once inside the cross-entropy loss function, which does smart things like the “LogSumExp trick”."
   ]
  },
  {
   "cell_type": "code",
   "execution_count": 2,
   "id": "6d0e910e-d62f-4af7-b67e-d5c50ba47e63",
   "metadata": {},
   "outputs": [
    {
     "data": {
      "text/plain": [
       "loss (generic function with 1 method)"
      ]
     },
     "execution_count": 2,
     "metadata": {},
     "output_type": "execute_result"
    }
   ],
   "source": [
    "loss(model,x,y) = Flux.logitcrossentropy(model(x),y)"
   ]
  },
  {
   "cell_type": "markdown",
   "id": "c1ca74dd-eec9-4cbf-8330-0ef00b326535",
   "metadata": {},
   "source": [
    "## Training\n",
    "\n",
    "Next we train our model. We use Fashion-MNIST images, flattened to 784-dimensional feature vectors."
   ]
  },
  {
   "cell_type": "code",
   "execution_count": 3,
   "id": "3f7bf6ad-394e-41c5-a9c8-91c16730d00b",
   "metadata": {},
   "outputs": [
    {
     "name": "stdout",
     "output_type": "stream",
     "text": [
      "loss(model, features, labels) = 0.6187518f0\n",
      "loss(model, features, labels) = 0.5422421f0\n",
      "loss(model, features, labels) = 0.50924766f0\n",
      "loss(model, features, labels) = 0.48956913f0\n",
      "loss(model, features, labels) = 0.47601458f0\n",
      "loss(model, features, labels) = 0.46589807f0\n",
      "loss(model, features, labels) = 0.45795166f0\n",
      "loss(model, features, labels) = 0.45148367f0\n",
      "loss(model, features, labels) = 0.44607836f0\n",
      "loss(model, features, labels) = 0.44146824f0\n"
     ]
    }
   ],
   "source": [
    "using MLUtils\n",
    "using MLDatasets\n",
    "\n",
    "ENV[\"DATADEPS_ALWAYS_ACCEPT\"] = true\n",
    "mnist_train,mnist_test = FashionMNIST(:train),FashionMNIST(:test)\n",
    "features = mnist_train.features\n",
    "labels = Flux.onehotbatch(mnist_train.targets,0:9)\n",
    "\n",
    "train_loader = DataLoader((features,labels),batchsize=256)\n",
    "num_epochs = 10\n",
    "for epoch in 1:num_epochs\n",
    "    for data in train_loader\n",
    "        Flux.train!(loss,model,[data],Descent())\n",
    "    end\n",
    "    @show loss(model,features,labels)\n",
    "end"
   ]
  },
  {
   "cell_type": "code",
   "execution_count": null,
   "id": "d2af25f1-c360-47f1-b9a1-7a6799cf9f38",
   "metadata": {},
   "outputs": [],
   "source": []
  }
 ],
 "metadata": {
  "kernelspec": {
   "display_name": "Julia 1.9.1",
   "language": "julia",
   "name": "julia-1.9"
  },
  "language_info": {
   "file_extension": ".jl",
   "mimetype": "application/julia",
   "name": "julia",
   "version": "1.9.1"
  }
 },
 "nbformat": 4,
 "nbformat_minor": 5
}
