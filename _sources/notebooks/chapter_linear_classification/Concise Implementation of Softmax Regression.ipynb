{
 "cells": [
  {
   "cell_type": "markdown",
   "id": "8a47f978-a446-42f7-9b72-585d45a4d0c8",
   "metadata": {},
   "source": [
    "# Concise Implementation of Softmax Regression\n",
    "Just as high-level deep learning frameworks made it easier to implement linear regression (see Section 3.5), they are similarly convenient here.\n",
    "\n",
    "## Defining the Model\n",
    "\n",
    "As in Section 3.5, we construct our fully connected layer using the built-in layer. "
   ]
  },
  {
   "cell_type": "code",
   "execution_count": 1,
   "id": "216f6688-aebe-461d-ba07-b8617cc25b88",
   "metadata": {},
   "outputs": [
    {
     "data": {
      "text/plain": [
       "Dense(784 => 10)    \u001b[90m# 7_850 parameters\u001b[39m"
      ]
     },
     "execution_count": 1,
     "metadata": {},
     "output_type": "execute_result"
    }
   ],
   "source": [
    "using Flux\n",
    "model = Dense(28*28=>10)"
   ]
  },
  {
   "cell_type": "markdown",
   "id": "75088c25-3917-425b-bb3a-78d647c98eaa",
   "metadata": {},
   "source": [
    "This avoids both overflow and underflow. We will want to keep the conventional softmax function handy in case we ever want to evaluate the output probabilities by our model. But instead of passing softmax probabilities into our new loss function, we just pass the logits and compute the softmax and its log all at once inside the cross-entropy loss function, which does smart things like the “LogSumExp trick”.This avoids both overflow and underflow. We will want to keep the conventional softmax function handy in case we ever want to evaluate the output probabilities by our model. But instead of passing softmax probabilities into our new loss function, we just pass the logits and compute the softmax and its log all at once inside the cross-entropy loss function, which does smart things like the “LogSumExp trick”."
   ]
  },
  {
   "cell_type": "code",
   "execution_count": null,
   "id": "6d0e910e-d62f-4af7-b67e-d5c50ba47e63",
   "metadata": {},
   "outputs": [],
   "source": []
  }
 ],
 "metadata": {
  "kernelspec": {
   "display_name": "Julia 1.9.1",
   "language": "julia",
   "name": "julia-1.9"
  },
  "language_info": {
   "file_extension": ".jl",
   "mimetype": "application/julia",
   "name": "julia",
   "version": "1.9.1"
  }
 },
 "nbformat": 4,
 "nbformat_minor": 5
}
