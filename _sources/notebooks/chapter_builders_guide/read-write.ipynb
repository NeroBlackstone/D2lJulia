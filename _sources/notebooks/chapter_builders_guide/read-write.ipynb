{
 "cells": [
  {
   "cell_type": "markdown",
   "metadata": {},
   "source": [
    "# File I/O\n",
    "\n",
    "## Loading and Saving Vectors\n",
    "\n",
    "For individual vectors, we can directly invoke the `serialize` and `deserialize` functions to read and write them respectively. Both functions require that we supply a name, and save requires as input the variable to be saved."
   ]
  },
  {
   "cell_type": "code",
   "execution_count": 3,
   "metadata": {},
   "outputs": [
    {
     "data": {
      "text/plain": [
       "4-element Vector{Int64}:\n",
       " 1\n",
       " 2\n",
       " 3\n",
       " 4"
      ]
     },
     "metadata": {},
     "output_type": "display_data"
    }
   ],
   "source": [
    "using Serialization\n",
    "\n",
    "x = [1:4...]\n",
    "serialize(\"x-file\",x)"
   ]
  },
  {
   "cell_type": "markdown",
   "metadata": {},
   "source": [
    "We can now read the data from the stored file back into memory."
   ]
  },
  {
   "cell_type": "code",
   "execution_count": 5,
   "metadata": {},
   "outputs": [
    {
     "data": {
      "text/plain": [
       "4-element Vector{Int64}:\n",
       " 1\n",
       " 2\n",
       " 3\n",
       " 4"
      ]
     },
     "metadata": {},
     "output_type": "display_data"
    }
   ],
   "source": [
    "x2 = deserialize(\"x-file\")"
   ]
  },
  {
   "cell_type": "markdown",
   "metadata": {},
   "source": [
    "We can store a list of vectors and read them back into memory."
   ]
  },
  {
   "cell_type": "code",
   "execution_count": 8,
   "metadata": {},
   "outputs": [
    {
     "data": {
      "text/plain": [
       "2-element Vector{Vector{Float64}}:\n",
       " [1.0, 2.0, 3.0, 4.0]\n",
       " [0.0, 0.0, 0.0, 0.0]"
      ]
     },
     "metadata": {},
     "output_type": "display_data"
    }
   ],
   "source": [
    "y = zeros(4)\n",
    "serialize(\"x-files\",[x,y])\n",
    "x2,y2 = deserialize(\"x-files\")"
   ]
  },
  {
   "cell_type": "markdown",
   "metadata": {},
   "source": [
    "We can even write and read a dictionary that maps from strings to vectors. This is convenient when we want to read or write all the weights in a model."
   ]
  },
  {
   "cell_type": "code",
   "execution_count": 9,
   "metadata": {},
   "outputs": [
    {
     "data": {
      "text/plain": [
       "Dict{String, Vector{Number}} with 2 entries:\n",
       "  \"x\" => [1, 2, 3, 4]\n",
       "  \"y\" => [0.0, 0.0, 0.0, 0.0]"
      ]
     },
     "metadata": {},
     "output_type": "display_data"
    }
   ],
   "source": [
    "mydict = Dict{String,Vector{Number}}(\"x\"=>x,\"y\"=>y)\n",
    "serialize(\"mydict\",mydict)\n",
    "mydict2 = deserialize(\"mydict\")"
   ]
  },
  {
   "cell_type": "markdown",
   "metadata": {},
   "source": [
    "## Loading and Saving Model Parameters\n",
    "\n",
    "Saving individual weight vectors is useful, but it gets very tedious if we want to save (and later load) an entire model. After all, we might have hundreds of parameter groups sprinkled throughout. For this reason the deep learning framework provides built-in functionalities to load and save entire networks. An important detail to note is that this saves model parameters and not the entire model. For example, if we have a 3-layer MLP, we need to specify the architecture separately. The reason for this is that the models themselves can contain arbitrary code, hence they cannot be serialized as naturally. Thus, in order to reinstate a model, we need to generate the architecture in code and then load the parameters from disk. Let’s start with our familiar MLP."
   ]
  },
  {
   "cell_type": "code",
   "execution_count": 39,
   "metadata": {},
   "outputs": [
    {
     "data": {
      "text/plain": [
       "10×2 Matrix{Float32}:\n",
       " -0.269618   -0.174497\n",
       "  0.109138   -0.03599\n",
       " -0.0990227   0.00134618\n",
       " -0.0878646   0.0274887\n",
       "  0.582191    0.44179\n",
       " -0.335405   -0.183537\n",
       " -0.168548   -0.328809\n",
       "  0.133812   -0.0234257\n",
       "  0.434612    0.216745\n",
       "  0.203886    0.0880216"
      ]
     },
     "metadata": {},
     "output_type": "display_data"
    }
   ],
   "source": [
    "using Flux\n",
    "\n",
    "struct MLP\n",
    "    net::Chain\n",
    "end\n",
    "\n",
    "X = rand(Float32,20,2)\n",
    "MLP() = @autosize (size(X)[1],) Chain(Dense(_=>256),relu,Dense(_=>10))\n",
    "model = MLP() \n",
    "Y = model(X)"
   ]
  },
  {
   "cell_type": "markdown",
   "metadata": {},
   "source": [
    "Next, we store the parameters of the model as a file with the name “mlp.params”."
   ]
  },
  {
   "cell_type": "code",
   "execution_count": 40,
   "metadata": {},
   "outputs": [],
   "source": [
    "using JLD2\n",
    "\n",
    "jldsave(\"mlp.params\"; model_state = Flux.state(model))"
   ]
  },
  {
   "cell_type": "markdown",
   "metadata": {},
   "source": [
    "To recover the model, we instantiate a clone of the original MLP model. Instead of randomly initializing the model parameters, we read the parameters stored in the file directly."
   ]
  },
  {
   "cell_type": "code",
   "execution_count": 44,
   "metadata": {},
   "outputs": [
    {
     "data": {
      "text/plain": [
       "Chain(\n",
       "  Dense(20 => 256),                     \u001b[90m# 5_376 parameters\u001b[39m\n",
       "  NNlib.relu,\n",
       "  Dense(256 => 10),                     \u001b[90m# 2_570 parameters\u001b[39m\n",
       ") \u001b[90m                  # Total: 4 arrays, \u001b[39m7_946 parameters, 31.289 KiB."
      ]
     },
     "metadata": {},
     "output_type": "display_data"
    }
   ],
   "source": [
    "model_state = JLD2.load(\"mlp.params\", \"model_state\");\n",
    "model = MLP()\n",
    "clone = Flux.loadmodel!(model, model_state)"
   ]
  },
  {
   "cell_type": "markdown",
   "metadata": {},
   "source": [
    "Since both instances have the same model parameters, the computational result of the same input X should be the same. Let’s verify this."
   ]
  },
  {
   "cell_type": "code",
   "execution_count": 47,
   "metadata": {},
   "outputs": [
    {
     "data": {
      "text/plain": [
       "true"
      ]
     },
     "metadata": {},
     "output_type": "display_data"
    }
   ],
   "source": [
    "Y_clone = clone(X)\n",
    "Y_clone == Y"
   ]
  }
 ],
 "metadata": {
  "kernelspec": {
   "display_name": "Julia 1.10.3",
   "language": "julia",
   "name": "julia-1.10"
  },
  "language_info": {
   "file_extension": ".jl",
   "mimetype": "application/julia",
   "name": "julia",
   "version": "1.10.3"
  }
 },
 "nbformat": 4,
 "nbformat_minor": 2
}
