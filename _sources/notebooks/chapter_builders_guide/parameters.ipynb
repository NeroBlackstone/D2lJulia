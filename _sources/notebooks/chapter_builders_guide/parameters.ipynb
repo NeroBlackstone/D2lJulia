{
 "cells": [
  {
   "cell_type": "markdown",
   "id": "87b66185-17b9-4413-bfb7-0f7a42eb6691",
   "metadata": {},
   "source": [
    "# Parameter Management\n",
    "\n",
    "We start by focusing on an MLP with one hidden layer."
   ]
  },
  {
   "cell_type": "code",
   "execution_count": 4,
   "id": "6a8162ca-6fc8-462c-8f38-f65365deb99e",
   "metadata": {},
   "outputs": [
    {
     "data": {
      "text/plain": [
       "(1, 2)"
      ]
     },
     "metadata": {},
     "output_type": "display_data"
    }
   ],
   "source": [
    "using Flux\n",
    "\n",
    "x = rand(Float32,4,2)\n",
    "model = @autosize (size(x)[1],) Chain(Dense(_=>8),relu,Dense(_,1))\n",
    "size(model(x))"
   ]
  },
  {
   "cell_type": "markdown",
   "id": "e4a42c79-db20-4edb-834c-59ee4190879d",
   "metadata": {},
   "source": [
    "## Parameter Access\n",
    "\n",
    "We can inspect the parameters of the second fully connected layer as follows."
   ]
  },
  {
   "cell_type": "code",
   "execution_count": 5,
   "id": "1ae0a383-b30d-494e-b68d-e338dbced34a",
   "metadata": {},
   "outputs": [
    {
     "name": "stdout",
     "output_type": "stream",
     "text": [
      "weight = Float32[0.5881851 -0.7515991 -0.1395958 0.52311933 0.6160638 -0.07015736 -0.78449243 0.56064373]\n",
      "bias = Float32[0.0]\n"
     ]
    }
   ],
   "source": [
    "weight, bias = Flux.params(model[3])\n",
    "@show weight\n",
    "@show bias;"
   ]
  },
  {
   "cell_type": "markdown",
   "id": "009dcf20-114e-4976-a6e5-b3456b2ecaa0",
   "metadata": {},
   "source": [
    "We can see that this fully connected layer contains two parameters, corresponding to that layer’s weights and biases, respectively.\n",
    "\n",
    "### All Parameters at Once\n",
    "\n",
    "When we need to perform operations on all parameters, accessing them one-by-one can grow tedious. The situation can grow especially unwieldy when we work with more complex, e.g., nested, modules, since we would need to recurse through the entire tree to extract each sub-module’s parameters. Below we demonstrate accessing the parameters of all layers."
   ]
  },
  {
   "cell_type": "code",
   "execution_count": 6,
   "id": "0082f805-cf35-4356-9011-4d94ac6c8aa7",
   "metadata": {},
   "outputs": [
    {
     "data": {
      "text/plain": [
       "4-element Vector{Any}:\n",
       " (\"1.weight\", (8, 4))\n",
       " (\"1.bias\", (8,))\n",
       " (\"3.weight\", (1, 8))\n",
       " (\"3.bias\", (1,))"
      ]
     },
     "metadata": {},
     "output_type": "display_data"
    }
   ],
   "source": [
    "params_vec = []\n",
    "for (index,layer) in enumerate(model)\n",
    "    params = Flux.params(layer)\n",
    "    if length(params)!=0\n",
    "        push!(params_vec,(\"$(index).weight\",size(params[1])))\n",
    "        push!(params_vec,(\"$(index).bias\",size(params[2])))\n",
    "    end\n",
    "end\n",
    "params_vec"
   ]
  },
  {
   "cell_type": "markdown",
   "id": "f62bec83",
   "metadata": {},
   "source": [
    "## Tied Parameters\n",
    "\n",
    "Often, we want to share parameters across multiple layers. Let’s see how to do this elegantly. In the following we allocate a fully connected layer and then use its parameters specifically to set those of another layer. Here we need to run the forward propagation net(X) before accessing the parameters."
   ]
  },
  {
   "cell_type": "code",
   "execution_count": 28,
   "id": "af9d9273",
   "metadata": {},
   "outputs": [
    {
     "name": "stdout",
     "output_type": "stream",
     "text": [
      "true\n",
      "true\n"
     ]
    },
    {
     "data": {
      "text/plain": [
       "1.0f0"
      ]
     },
     "metadata": {},
     "output_type": "display_data"
    }
   ],
   "source": [
    "shared = Dense(8=>8)\n",
    "model = Chain(Dense(8=>8),relu,shared,relu,shared,relu,Dense(8,1))\n",
    "println(Flux.params(model[3])[1] == Flux.params(model[5])[1]) \n",
    "Flux.params(model[3])[1][1,1] = 1\n",
    "println(Flux.params(model[3])[1][1,1] == Flux.params(model[5])[1][1,1]) "
   ]
  }
 ],
 "metadata": {
  "kernelspec": {
   "display_name": "Julia 1.10.3",
   "language": "julia",
   "name": "julia-1.10"
  },
  "language_info": {
   "file_extension": ".jl",
   "mimetype": "application/julia",
   "name": "julia",
   "version": "1.10.3"
  }
 },
 "nbformat": 4,
 "nbformat_minor": 5
}
