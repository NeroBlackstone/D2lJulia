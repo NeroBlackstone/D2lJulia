{
 "cells": [
  {
   "attachments": {},
   "cell_type": "markdown",
   "metadata": {},
   "source": [
    "# Data Preprocessing\n",
    "\n",
    "In this section, we learn how to preprocess data using [CSV.jl](https://csv.juliadata.org/stable/), and [DataFrames.jl](https://dataframes.juliadata.org/stable/)\n",
    "\n",
    "## Reading the Dataset¶\n",
    "\n",
    "Comma-separated values (CSV) files are ubiquitous for storing tabular (spreadsheet-like) data. Here, each line corresponds to one record and consists of several (comma-separated) fields, e.g., “Albert Einstein,March 14 1879,Ulm,Federal polytechnic school,Accomplishments in the field of gravitational physics”. To demonstrate how to load CSV files with CSV.jl, we create a CSV file below ../data/house_tiny.csv. This file represents a dataset of homes, where each row corresponds to a distinct home and the columns correspond to the number of rooms (NumRooms), the roof type (RoofType), and the price (Price)."
   ]
  },
  {
   "cell_type": "code",
   "execution_count": 17,
   "metadata": {},
   "outputs": [
    {
     "data": {
      "text/plain": [
       "\"../data/house_tiny.csv\""
      ]
     },
     "metadata": {},
     "output_type": "display_data"
    }
   ],
   "source": [
    "using CSV\n",
    "\n",
    "csv_data = \"\"\"\n",
    "NumRooms,RoofType,Price\n",
    ",,127500\n",
    "2,,106000\n",
    "4,Slate,178100\n",
    ",,140000\n",
    "\"\"\"\n",
    "\n",
    "dir_path = joinpath(\"..\",\"data\")\n",
    "file_path = joinpath(dir_path,\"house_tiny.csv\")\n",
    "mkpath(dir_path)\n",
    "CSV.write(file_path,CSV.File(IOBuffer(csv_data)))"
   ]
  },
  {
   "attachments": {},
   "cell_type": "markdown",
   "metadata": {},
   "source": [
    "Now let’s import `DataFrames` and load the dataset with `CSV.read`."
   ]
  },
  {
   "cell_type": "code",
   "execution_count": 18,
   "metadata": {},
   "outputs": [
    {
     "data": {
      "text/html": [
       "<div><div style = \"float: left;\"><span>4×3 DataFrame</span></div><div style = \"clear: both;\"></div></div><div class = \"data-frame\" style = \"overflow-x: scroll;\"><table class = \"data-frame\" style = \"margin-bottom: 6px;\"><thead><tr class = \"header\"><th class = \"rowNumber\" style = \"font-weight: bold; text-align: right;\">Row</th><th style = \"text-align: left;\">NumRooms</th><th style = \"text-align: left;\">RoofType</th><th style = \"text-align: left;\">Price</th></tr><tr class = \"subheader headerLastRow\"><th class = \"rowNumber\" style = \"font-weight: bold; text-align: right;\"></th><th title = \"Union{Missing, Int64}\" style = \"text-align: left;\">Int64?</th><th title = \"Union{Missing, String7}\" style = \"text-align: left;\">String7?</th><th title = \"Int64\" style = \"text-align: left;\">Int64</th></tr></thead><tbody><tr><td class = \"rowNumber\" style = \"font-weight: bold; text-align: right;\">1</td><td style = \"font-style: italic; text-align: right;\">missing</td><td style = \"font-style: italic; text-align: left;\">missing</td><td style = \"text-align: right;\">127500</td></tr><tr><td class = \"rowNumber\" style = \"font-weight: bold; text-align: right;\">2</td><td style = \"text-align: right;\">2</td><td style = \"font-style: italic; text-align: left;\">missing</td><td style = \"text-align: right;\">106000</td></tr><tr><td class = \"rowNumber\" style = \"font-weight: bold; text-align: right;\">3</td><td style = \"text-align: right;\">4</td><td style = \"text-align: left;\">Slate</td><td style = \"text-align: right;\">178100</td></tr><tr><td class = \"rowNumber\" style = \"font-weight: bold; text-align: right;\">4</td><td style = \"font-style: italic; text-align: right;\">missing</td><td style = \"font-style: italic; text-align: left;\">missing</td><td style = \"text-align: right;\">140000</td></tr></tbody></table></div>"
      ],
      "text/latex": [
       "\\begin{tabular}{r|ccc}\n",
       "\t& NumRooms & RoofType & Price\\\\\n",
       "\t\\hline\n",
       "\t& Int64? & String7? & Int64\\\\\n",
       "\t\\hline\n",
       "\t1 & \\emph{missing} & \\emph{missing} & 127500 \\\\\n",
       "\t2 & 2 & \\emph{missing} & 106000 \\\\\n",
       "\t3 & 4 & Slate & 178100 \\\\\n",
       "\t4 & \\emph{missing} & \\emph{missing} & 140000 \\\\\n",
       "\\end{tabular}\n"
      ],
      "text/plain": [
       "\u001b[1m4×3 DataFrame\u001b[0m\n",
       "\u001b[1m Row \u001b[0m│\u001b[1m NumRooms \u001b[0m\u001b[1m RoofType \u001b[0m\u001b[1m Price  \u001b[0m\n",
       "     │\u001b[90m Int64?   \u001b[0m\u001b[90m String7? \u001b[0m\u001b[90m Int64  \u001b[0m\n",
       "─────┼────────────────────────────\n",
       "   1 │\u001b[90m  missing \u001b[0m\u001b[90m missing  \u001b[0m 127500\n",
       "   2 │        2 \u001b[90m missing  \u001b[0m 106000\n",
       "   3 │        4  Slate     178100\n",
       "   4 │\u001b[90m  missing \u001b[0m\u001b[90m missing  \u001b[0m 140000"
      ]
     },
     "metadata": {},
     "output_type": "display_data"
    }
   ],
   "source": [
    "using DataFrames\n",
    "data = CSV.read(open(file_path),DataFrame)"
   ]
  },
  {
   "attachments": {},
   "cell_type": "markdown",
   "metadata": {},
   "source": [
    "## Data Preparation\n",
    "\n",
    "In supervised learning, we train models to predict a designated target value, given some set of input values. Our first step in processing the dataset is to separate out columns corresponding to input versus target values. We can select columns either by name or via integer-location based indexing."
   ]
  }
 ],
 "metadata": {
  "kernelspec": {
   "display_name": "Julia 1.9.0",
   "language": "julia",
   "name": "julia-1.9"
  },
  "language_info": {
   "file_extension": ".jl",
   "mimetype": "application/julia",
   "name": "julia",
   "version": "1.9.0"
  },
  "orig_nbformat": 4
 },
 "nbformat": 4,
 "nbformat_minor": 2
}
