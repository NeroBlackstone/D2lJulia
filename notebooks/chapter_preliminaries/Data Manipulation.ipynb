{
 "cells": [
  {
   "attachments": {},
   "cell_type": "markdown",
   "id": "3d162d5c-67bc-4fb5-aba9-6ec01391a503",
   "metadata": {},
   "source": [
    "# 2.1. Data Manipulation\n",
    "\n",
    "## 2.1.1. Getting Started\n",
    "\n",
    "We can create new `Vector` by `UnitRange`, the syntax `a:b` with `a` and `b` creates a `UnitRange`, range starting at `a` (include) and ending at `b`(also include). [... operator](https://docs.julialang.org/en/v1/manual/faq/#What-does-the-...-operator-do?) splits one argument into many different arguments in function calls."
   ]
  },
  {
   "cell_type": "code",
   "execution_count": 1,
   "id": "c1e4a518-ca8e-411e-8a7b-2314abe14649",
   "metadata": {
    "scrolled": true
   },
   "outputs": [
    {
     "data": {
      "text/plain": [
       "12-element Vector{Float32}:\n",
       "  1.0\n",
       "  2.0\n",
       "  3.0\n",
       "  4.0\n",
       "  5.0\n",
       "  6.0\n",
       "  7.0\n",
       "  8.0\n",
       "  9.0\n",
       " 10.0\n",
       " 11.0\n",
       " 12.0"
      ]
     },
     "execution_count": 1,
     "metadata": {},
     "output_type": "execute_result"
    }
   ],
   "source": [
    "x = Float32[1.0:12.0...]"
   ]
  },
  {
   "attachments": {},
   "cell_type": "markdown",
   "id": "7158f338-468b-4803-a057-4643ab27b623",
   "metadata": {},
   "source": [
    "This is equivalent to:"
   ]
  },
  {
   "cell_type": "code",
   "execution_count": 2,
   "id": "318be3e1-8d22-4fd0-b1ec-732065b811ae",
   "metadata": {},
   "outputs": [
    {
     "data": {
      "text/plain": [
       "12-element Vector{Float32}:\n",
       "  1.0\n",
       "  2.0\n",
       "  3.0\n",
       "  4.0\n",
       "  5.0\n",
       "  6.0\n",
       "  7.0\n",
       "  8.0\n",
       "  9.0\n",
       " 10.0\n",
       " 11.0\n",
       " 12.0"
      ]
     },
     "execution_count": 2,
     "metadata": {},
     "output_type": "execute_result"
    }
   ],
   "source": [
    "x = Vector{Float32}(1.0:12.0)\n",
    "x = collect(1.0:12.0)\n",
    "x = Float32[1.0,2.0,3.0,4.0,5.0,6.0,7.0,8.0,9.0,10.0,11.0,12.0]"
   ]
  },
  {
   "attachments": {},
   "cell_type": "markdown",
   "id": "fdbe0395-a24c-4d9f-85d5-ef787d8369ae",
   "metadata": {},
   "source": [
    "The significant difference between Julia and other programming languages is that array index start from 1."
   ]
  },
  {
   "cell_type": "code",
   "execution_count": 3,
   "id": "5105f74b-93f3-4f72-a3a5-b359c3cff549",
   "metadata": {},
   "outputs": [
    {
     "data": {
      "text/plain": [
       "1.0f0"
      ]
     },
     "execution_count": 3,
     "metadata": {},
     "output_type": "execute_result"
    }
   ],
   "source": [
    "x[1]"
   ]
  },
  {
   "attachments": {},
   "cell_type": "markdown",
   "id": "0e08a93c-28cf-4feb-8224-75211f1da3ac",
   "metadata": {},
   "source": [
    "In julia, `Vector` is a 1-dimensional `Array`, `Vector{Int}` is a shorthand to `Array{Int, 1}`."
   ]
  },
  {
   "cell_type": "code",
   "execution_count": 4,
   "id": "82804107-3eaa-49b3-b1e4-566586acfc1b",
   "metadata": {},
   "outputs": [
    {
     "data": {
      "text/plain": [
       "true"
      ]
     },
     "execution_count": 4,
     "metadata": {},
     "output_type": "execute_result"
    }
   ],
   "source": [
    "Vector{Int} == Array{Int,1}"
   ]
  },
  {
   "attachments": {},
   "cell_type": "markdown",
   "id": "39ca4fcd-8777-4e95-b993-2a417d7d3bdf",
   "metadata": {},
   "source": [
    "We can access a `Array`’s shape (the length along each axis) via the `size` function, it will return a `Tuple` containing the dimensions of the specified array. Because we are dealing with a vector here, the returned `Tuple` contains just a single element and is identical to the `length`."
   ]
  },
  {
   "cell_type": "code",
   "execution_count": 5,
   "id": "69ff56f6-6bb5-424b-b799-2c0f55282b8f",
   "metadata": {},
   "outputs": [
    {
     "data": {
      "text/plain": [
       "(12,)"
      ]
     },
     "execution_count": 5,
     "metadata": {},
     "output_type": "execute_result"
    }
   ],
   "source": [
    "size(x)"
   ]
  },
  {
   "attachments": {},
   "cell_type": "markdown",
   "id": "35a041b1-f965-43ea-b47a-23ccedf180e2",
   "metadata": {},
   "source": [
    "We can inspect the total number of elements in a `Vector` or `Matrix` via the `length` function."
   ]
  },
  {
   "cell_type": "code",
   "execution_count": 6,
   "id": "8504cf22-41d9-4122-97be-9103c316fcdd",
   "metadata": {},
   "outputs": [
    {
     "data": {
      "text/plain": [
       "12"
      ]
     },
     "execution_count": 6,
     "metadata": {},
     "output_type": "execute_result"
    }
   ],
   "source": [
    "length(x)"
   ]
  },
  {
   "attachments": {},
   "cell_type": "markdown",
   "id": "c6d0df95-61ff-4738-bb73-543d63572cb8",
   "metadata": {},
   "source": [
    "We can change the shape of an `Array` without altering its length or values, by invoking `reshape` function. For example, we can transform our vector x whose shape is (12,) to a matrix X with shape (3, 4). This new matrix retains all elements. Notice that the elements of our vector are laid out one column at a time and thus x[3] == X[3,1]. Because Julia is column-major."
   ]
  },
  {
   "cell_type": "code",
   "execution_count": 7,
   "id": "913c7b7b-922d-499f-a3b7-9dd19c094dc8",
   "metadata": {},
   "outputs": [
    {
     "data": {
      "text/plain": [
       "3×4 Matrix{Float32}:\n",
       " 1.0  4.0  7.0  10.0\n",
       " 2.0  5.0  8.0  11.0\n",
       " 3.0  6.0  9.0  12.0"
      ]
     },
     "execution_count": 7,
     "metadata": {},
     "output_type": "execute_result"
    }
   ],
   "source": [
    "X = reshape(x,3,4)"
   ]
  },
  {
   "attachments": {},
   "cell_type": "markdown",
   "id": "147b4326-e494-421a-823c-8e8aac325ea4",
   "metadata": {},
   "source": [
    "If you want to specify the permutation, use `permutedims`,or `transpose` 4x3 matrix:"
   ]
  },
  {
   "cell_type": "code",
   "execution_count": 8,
   "id": "db31d1af-2c4c-484c-a0e7-193fc4921e4f",
   "metadata": {},
   "outputs": [
    {
     "data": {
      "text/plain": [
       "3×4 transpose(::Matrix{Float32}) with eltype Float32:\n",
       " 1.0   2.0   3.0   4.0\n",
       " 5.0   6.0   7.0   8.0\n",
       " 9.0  10.0  11.0  12.0"
      ]
     },
     "execution_count": 8,
     "metadata": {},
     "output_type": "execute_result"
    }
   ],
   "source": [
    "X = permutedims(reshape(x,4,3),(2,1))\n",
    "X = transpose(reshape(x,4,3))"
   ]
  },
  {
   "attachments": {},
   "cell_type": "markdown",
   "id": "21070e3d-64c7-4a85-8889-0c27d0555bfc",
   "metadata": {},
   "source": [
    "Like `Vector`, `Matrix` is an alias for 2-dimensional Array."
   ]
  },
  {
   "cell_type": "code",
   "execution_count": 9,
   "id": "663460ed-d9e2-4dbc-8be9-c97ce0d4d960",
   "metadata": {
    "scrolled": true
   },
   "outputs": [
    {
     "data": {
      "text/plain": [
       "true"
      ]
     },
     "execution_count": 9,
     "metadata": {},
     "output_type": "execute_result"
    }
   ],
   "source": [
    "Matrix{Int} == Array{Int,2}"
   ]
  },
  {
   "attachments": {},
   "cell_type": "markdown",
   "id": "db059376-5233-4aa0-a547-08a7fe79f9bd",
   "metadata": {},
   "source": [
    "The new dimensions may be specified either as a list of arguments or as a shape tuple,`reshape(x,(3,4))`. At most one dimension may be specified with a `:`, in which case its length is computed such that its product with all the specified dimensions is equal to the length of the original array x, we could have equivalently called `reshape(x, 3, :)` or `reshape(x, :, 4)`."
   ]
  },
  {
   "attachments": {},
   "cell_type": "markdown",
   "id": "2edfda2e-d231-4011-bbc1-bedca35b41e3",
   "metadata": {},
   "source": [
    "We can also construct higher dimensional `Array` with reshape function. More about [multi-dimensional Arrays](https://docs.julialang.org/en/v1/manual/arrays/#man-multi-dim-arrays)."
   ]
  },
  {
   "cell_type": "code",
   "execution_count": 10,
   "id": "7c0582b1-de23-4e44-af06-09ef416e401a",
   "metadata": {
    "scrolled": true
   },
   "outputs": [
    {
     "data": {
      "text/plain": [
       "2×2×3 Array{Float32, 3}:\n",
       "[:, :, 1] =\n",
       " 1.0  3.0\n",
       " 2.0  4.0\n",
       "\n",
       "[:, :, 2] =\n",
       " 5.0  7.0\n",
       " 6.0  8.0\n",
       "\n",
       "[:, :, 3] =\n",
       "  9.0  11.0\n",
       " 10.0  12.0"
      ]
     },
     "execution_count": 10,
     "metadata": {},
     "output_type": "execute_result"
    }
   ],
   "source": [
    "X2 = reshape(x,2,2,3)"
   ]
  },
  {
   "attachments": {},
   "cell_type": "markdown",
   "id": "1de5255f-7b8d-4d85-a93d-9f64f93df28e",
   "metadata": {},
   "source": [
    "`reshape` creates a `view` of original vector, meaning that no copy is formed:"
   ]
  },
  {
   "cell_type": "code",
   "execution_count": 11,
   "id": "6ba51b4d-85ee-426f-875a-a77e982fb84e",
   "metadata": {
    "scrolled": true
   },
   "outputs": [
    {
     "data": {
      "text/plain": [
       "12-element Vector{Float32}:\n",
       "  1.0\n",
       "  1.0\n",
       "  3.0\n",
       "  4.0\n",
       "  5.0\n",
       "  6.0\n",
       "  7.0\n",
       "  8.0\n",
       "  9.0\n",
       " 10.0\n",
       " 11.0\n",
       " 12.0"
      ]
     },
     "execution_count": 11,
     "metadata": {},
     "output_type": "execute_result"
    }
   ],
   "source": [
    "X2[2,1,1] = 1\n",
    "x"
   ]
  },
  {
   "attachments": {},
   "cell_type": "markdown",
   "id": "398bf7e9-b340-4c24-8e17-50c1758be6dc",
   "metadata": {},
   "source": [
    "We can construct a n-d `Array` with all elements set to zero and a shape of (2, 3, 4) via the `zeros` function."
   ]
  },
  {
   "cell_type": "code",
   "execution_count": 12,
   "id": "c23e496f-c164-48a6-86a2-c84625adfadb",
   "metadata": {},
   "outputs": [
    {
     "data": {
      "text/plain": [
       "2×3×4 Array{Int64, 3}:\n",
       "[:, :, 1] =\n",
       " 0  0  0\n",
       " 0  0  0\n",
       "\n",
       "[:, :, 2] =\n",
       " 0  0  0\n",
       " 0  0  0\n",
       "\n",
       "[:, :, 3] =\n",
       " 0  0  0\n",
       " 0  0  0\n",
       "\n",
       "[:, :, 4] =\n",
       " 0  0  0\n",
       " 0  0  0"
      ]
     },
     "execution_count": 12,
     "metadata": {},
     "output_type": "execute_result"
    }
   ],
   "source": [
    "zeros(Int,(2, 3, 4))"
   ]
  },
  {
   "cell_type": "markdown",
   "id": "6f40f89d-cf6b-4517-a9bb-7dce47abcf58",
   "metadata": {},
   "source": [
    "Using `zero(X)` to have the same shape as X."
   ]
  },
  {
   "cell_type": "code",
   "execution_count": 13,
   "id": "80a9f5b9-2016-468c-a1c4-15e3feda0447",
   "metadata": {},
   "outputs": [
    {
     "data": {
      "text/plain": [
       "3×4 Matrix{Float32}:\n",
       " 0.0  0.0  0.0  0.0\n",
       " 0.0  0.0  0.0  0.0\n",
       " 0.0  0.0  0.0  0.0"
      ]
     },
     "execution_count": 13,
     "metadata": {},
     "output_type": "execute_result"
    }
   ],
   "source": [
    "zero(X)"
   ]
  },
  {
   "attachments": {},
   "cell_type": "markdown",
   "id": "43e7a440-ce41-40ec-82ae-5e2e0e844d75",
   "metadata": {},
   "source": [
    "Similarly, we can create a n-d `Array` with all ones by invoking `ones`."
   ]
  },
  {
   "cell_type": "code",
   "execution_count": 14,
   "id": "b71e72c1-be86-42d6-888f-42463b30011a",
   "metadata": {},
   "outputs": [
    {
     "data": {
      "text/plain": [
       "2×3×4 Array{Float64, 3}:\n",
       "[:, :, 1] =\n",
       " 1.0  1.0  1.0\n",
       " 1.0  1.0  1.0\n",
       "\n",
       "[:, :, 2] =\n",
       " 1.0  1.0  1.0\n",
       " 1.0  1.0  1.0\n",
       "\n",
       "[:, :, 3] =\n",
       " 1.0  1.0  1.0\n",
       " 1.0  1.0  1.0\n",
       "\n",
       "[:, :, 4] =\n",
       " 1.0  1.0  1.0\n",
       " 1.0  1.0  1.0"
      ]
     },
     "execution_count": 14,
     "metadata": {},
     "output_type": "execute_result"
    }
   ],
   "source": [
    "ones((2, 3, 4))"
   ]
  },
  {
   "attachments": {},
   "cell_type": "markdown",
   "id": "451740ac-b01a-4f67-bd29-f72ff4d5f826",
   "metadata": {},
   "source": [
    "We often wish to sample each element randomly (and independently) from a given probability distribution. For example, the parameters of neural networks are often initialized randomly. The following snippet creates a matrix with elements drawn from a standard Gaussian (normal) distribution with mean 0 and standard deviation 1."
   ]
  },
  {
   "cell_type": "code",
   "execution_count": 15,
   "id": "c46a920d-e3ea-429b-8f8b-79ca6b23863a",
   "metadata": {},
   "outputs": [
    {
     "data": {
      "text/plain": [
       "3×4 Matrix{Float64}:\n",
       " -0.0725183  -0.383395   1.87141   -1.51073\n",
       "  1.33734    -0.74673    0.600773  -1.4579\n",
       " -0.300499    0.348163  -1.58002    1.50599"
      ]
     },
     "execution_count": 15,
     "metadata": {},
     "output_type": "execute_result"
    }
   ],
   "source": [
    "randn((3,4))"
   ]
  },
  {
   "attachments": {},
   "cell_type": "markdown",
   "id": "1d21ebe5-8609-4486-9136-a83dac98bf21",
   "metadata": {},
   "source": [
    "Finally, we can construct matrix by supplying the exact values for each element."
   ]
  },
  {
   "cell_type": "code",
   "execution_count": 16,
   "id": "ec609eba-84d8-42fb-82ef-8a01132f2a9c",
   "metadata": {},
   "outputs": [
    {
     "data": {
      "text/plain": [
       "3×4 Matrix{Int64}:\n",
       " 2  1  4  3\n",
       " 1  2  3  4\n",
       " 4  3  4  1"
      ]
     },
     "execution_count": 16,
     "metadata": {},
     "output_type": "execute_result"
    }
   ],
   "source": [
    "[2 1 4 3;\n",
    "1 2 3 4;\n",
    "4 3 4 1;]"
   ]
  },
  {
   "attachments": {},
   "cell_type": "markdown",
   "id": "862e073c-38e0-49a9-9b0f-55eb4f98e783",
   "metadata": {},
   "source": [
    "## 2.1.2. Indexing and Slicing"
   ]
  },
  {
   "attachments": {},
   "cell_type": "markdown",
   "id": "6a4a1d5d-206c-4c2d-88e5-d49e46b154b4",
   "metadata": {},
   "source": [
    "We can access array elements by indexing (starting with 1). To access first or last element based in Array, we can use `begin` and `end`.  "
   ]
  },
  {
   "cell_type": "code",
   "execution_count": 17,
   "id": "37378473-8775-4225-852e-736e2c492f91",
   "metadata": {},
   "outputs": [
    {
     "data": {
      "text/plain": [
       "(1.0f0, 12.0f0, 11.0f0)"
      ]
     },
     "execution_count": 17,
     "metadata": {},
     "output_type": "execute_result"
    }
   ],
   "source": [
    "x[begin],x[end],x[end-1]"
   ]
  },
  {
   "attachments": {},
   "cell_type": "markdown",
   "id": "8b9160e3-cffe-46f9-9eca-1ef81f2e2293",
   "metadata": {},
   "source": [
    "We can access whole ranges of unfold n-d Array via slicing (e.g., `X[begin:end]`), where the returned value includes the first index (`begin`) and the last (`end`)."
   ]
  },
  {
   "cell_type": "code",
   "execution_count": 18,
   "id": "dc1ec611-abf3-4db9-bae9-a9686ba44f9d",
   "metadata": {},
   "outputs": [
    {
     "data": {
      "text/plain": [
       "12-element Vector{Float32}:\n",
       "  1.0\n",
       "  5.0\n",
       "  9.0\n",
       "  1.0\n",
       "  6.0\n",
       " 10.0\n",
       "  3.0\n",
       "  7.0\n",
       " 11.0\n",
       "  4.0\n",
       "  8.0\n",
       " 12.0"
      ]
     },
     "execution_count": 18,
     "metadata": {},
     "output_type": "execute_result"
    }
   ],
   "source": [
    "X[begin:end]"
   ]
  },
  {
   "attachments": {},
   "cell_type": "markdown",
   "id": "d647c218-1ad3-41a0-ad91-f40880c66efe",
   "metadata": {},
   "source": [
    "When only one index is specified for a order n-d Array, it is applied to unfolded vector."
   ]
  },
  {
   "cell_type": "code",
   "execution_count": 19,
   "id": "dc48928d-1093-417a-b2d6-b6310e82cdec",
   "metadata": {},
   "outputs": [
    {
     "data": {
      "text/plain": [
       "6.0f0"
      ]
     },
     "execution_count": 19,
     "metadata": {},
     "output_type": "execute_result"
    }
   ],
   "source": [
    "X[5]"
   ]
  },
  {
   "attachments": {},
   "cell_type": "markdown",
   "id": "99f8f178-9317-48d0-8527-f8ae59ffa1eb",
   "metadata": {},
   "source": [
    "In the following code, `[end,:]`selects the last row."
   ]
  },
  {
   "cell_type": "code",
   "execution_count": 20,
   "id": "3f08fe18-9705-4d30-abd9-d457174f48f9",
   "metadata": {},
   "outputs": [
    {
     "data": {
      "text/plain": [
       "4-element Vector{Float32}:\n",
       "  9.0\n",
       " 10.0\n",
       " 11.0\n",
       " 12.0"
      ]
     },
     "execution_count": 20,
     "metadata": {},
     "output_type": "execute_result"
    }
   ],
   "source": [
    "X[end,:]"
   ]
  },
  {
   "attachments": {},
   "cell_type": "markdown",
   "id": "d11ee170-a84a-4ee6-9f4e-a13ceb336d43",
   "metadata": {},
   "source": [
    "And `[2:3,:]` selects the second and third rows."
   ]
  },
  {
   "cell_type": "code",
   "execution_count": 21,
   "id": "d4886ffc-c5d0-4706-b660-d48bc2f2ddd6",
   "metadata": {},
   "outputs": [
    {
     "data": {
      "text/plain": [
       "2×4 Matrix{Float32}:\n",
       " 5.0   6.0   7.0   8.0\n",
       " 9.0  10.0  11.0  12.0"
      ]
     },
     "execution_count": 21,
     "metadata": {},
     "output_type": "execute_result"
    }
   ],
   "source": [
    "X[2:3,:]"
   ]
  },
  {
   "attachments": {},
   "cell_type": "markdown",
   "id": "70b37ceb-5459-44ce-ba3c-972a92fd00c5",
   "metadata": {},
   "source": [
    "In reality, we can use any `UnitRange` to slice array."
   ]
  },
  {
   "cell_type": "code",
   "execution_count": 22,
   "id": "2c53b011-f3a7-4a7b-8741-41711643c5a3",
   "metadata": {},
   "outputs": [
    {
     "data": {
      "text/plain": [
       "3×3 Matrix{Int64}:\n",
       " 1  13  25\n",
       " 3  15  27\n",
       " 5  17  29"
      ]
     },
     "execution_count": 22,
     "metadata": {},
     "output_type": "execute_result"
    }
   ],
   "source": [
    "A = reshape(collect(1:36),6,6)\n",
    "A[begin:2:end,begin:2:end] "
   ]
  },
  {
   "attachments": {},
   "cell_type": "markdown",
   "id": "d1239ce7-2c48-41e8-823b-d17f6752b564",
   "metadata": {},
   "source": [
    "If we want to assign multiple elements the same value, we can `broadcast` the value via `.=`. For instance, `[1:2,:]`accesses the first and second rows, where `:` takes all the elements along column. While we discussed for matrices, this also works for vectors and for array of more than 2 dimensions."
   ]
  },
  {
   "cell_type": "code",
   "execution_count": 23,
   "id": "a2b7f561-6012-4fab-b9ed-c6cf4ce31c7a",
   "metadata": {},
   "outputs": [
    {
     "data": {
      "text/plain": [
       "6×6 Matrix{Int64}:\n",
       " 12  12  12  12  12  12\n",
       " 12  12  12  12  12  12\n",
       "  3   9  15  21  27  33\n",
       "  4  10  16  22  28  34\n",
       "  5  11  17  23  29  35\n",
       "  6  12  18  24  30  36"
      ]
     },
     "execution_count": 23,
     "metadata": {},
     "output_type": "execute_result"
    }
   ],
   "source": [
    "A[1:2,:] .= 12\n",
    "A"
   ]
  },
  {
   "attachments": {},
   "cell_type": "markdown",
   "id": "a93ba9b1-62cd-40e8-854b-6374c9beca5e",
   "metadata": {},
   "source": [
    "## 2.1.3. Operations"
   ]
  },
  {
   "cell_type": "markdown",
   "id": "c7452253-6a3d-4c73-8b3b-7d1ab76777df",
   "metadata": {},
   "source": [
    "Vectorized \"dot\" operators can be applied elementwise including unary operators:"
   ]
  },
  {
   "cell_type": "code",
   "execution_count": 24,
   "id": "6534c5c0-7778-4b14-975e-dc8becad4bf0",
   "metadata": {
    "scrolled": true
   },
   "outputs": [
    {
     "data": {
      "text/plain": [
       "12-element Vector{Float32}:\n",
       "      2.7182817\n",
       "      2.7182817\n",
       "     20.085537\n",
       "     54.59815\n",
       "    148.41316\n",
       "    403.4288\n",
       "   1096.6332\n",
       "   2980.958\n",
       "   8103.084\n",
       "  22026.467\n",
       "  59874.14\n",
       " 162754.8"
      ]
     },
     "execution_count": 24,
     "metadata": {},
     "output_type": "execute_result"
    }
   ],
   "source": [
    "exp.(x)"
   ]
  },
  {
   "cell_type": "markdown",
   "id": "436cb132-b0a9-46b3-b49d-87907e10f782",
   "metadata": {},
   "source": [
    "Also, for every binary operation like `^`, there is a corresponding \"dot\" operation `.^` that is automatically defined to perform ^ element-by-element on arrays."
   ]
  },
  {
   "cell_type": "code",
   "execution_count": 25,
   "id": "3484f173-b9b7-4ccf-8baa-f10739e85aa2",
   "metadata": {},
   "outputs": [
    {
     "data": {
      "text/plain": [
       "([3.0, 4.0, 6.0, 10.0], [-1.0, 0.0, 2.0, 6.0], [2.0, 4.0, 8.0, 16.0], [0.5, 1.0, 2.0, 4.0], [1.0, 4.0, 16.0, 64.0])"
      ]
     },
     "execution_count": 25,
     "metadata": {},
     "output_type": "execute_result"
    }
   ],
   "source": [
    "x = [1.0,2,4,8]\n",
    "y = [2.0,2,2,2]\n",
    "x.+y, x.-y, x.*y, x./y, x.^y"
   ]
  },
  {
   "cell_type": "markdown",
   "id": "a2662623-75dc-4344-ac44-9f06c0e47d2e",
   "metadata": {},
   "source": [
    "We can also concatenate multiple arrays together, stacking them end-to-end to form a larger array. We just need to provide a list of arrays and tell the system along which axis to concatenate. The example below shows what happens when we concatenate two matrices along rows (dimension 1) and columns (dimension 2). "
   ]
  },
  {
   "cell_type": "code",
   "execution_count": 26,
   "id": "1b0cc5a7-0c99-4c17-9de7-14ad4aa68fe8",
   "metadata": {},
   "outputs": [
    {
     "data": {
      "text/plain": [
       "6×4 Matrix{Float64}:\n",
       " 1.0  4.0  7.0  10.0\n",
       " 2.0  5.0  8.0  11.0\n",
       " 3.0  6.0  9.0  12.0\n",
       " 1.0  1.0  4.0   3.0\n",
       " 1.0  2.0  3.0   4.0\n",
       " 4.0  3.0  2.0   1.0"
      ]
     },
     "execution_count": 26,
     "metadata": {},
     "output_type": "execute_result"
    }
   ],
   "source": [
    "X = reshape(collect(1:12),(3,4))\n",
    "Y = [1.0 1 4 3; 1 2 3 4; 4 3 2 1]\n",
    "vcat(X,Y)"
   ]
  },
  {
   "cell_type": "code",
   "execution_count": 27,
   "id": "90bf91c7-fdbb-4a9d-83cb-c70b396cefc9",
   "metadata": {},
   "outputs": [
    {
     "data": {
      "text/plain": [
       "3×8 Matrix{Float64}:\n",
       " 1.0  4.0  7.0  10.0  1.0  1.0  4.0  3.0\n",
       " 2.0  5.0  8.0  11.0  1.0  2.0  3.0  4.0\n",
       " 3.0  6.0  9.0  12.0  4.0  3.0  2.0  1.0"
      ]
     },
     "execution_count": 27,
     "metadata": {},
     "output_type": "execute_result"
    }
   ],
   "source": [
    "hcat(X,Y)"
   ]
  },
  {
   "cell_type": "markdown",
   "id": "e7274f2d-74b4-4058-a76f-e048de629563",
   "metadata": {},
   "source": [
    "We can specify the `dims` we want to concatenate.This allows one to construct block-diagonal matrices:"
   ]
  },
  {
   "cell_type": "code",
   "execution_count": 28,
   "id": "38c346ab-ac5f-4e55-92cc-e1c6228485ff",
   "metadata": {},
   "outputs": [
    {
     "data": {
      "text/plain": [
       "3×8 Matrix{Float64}:\n",
       " 1.0  4.0  7.0  10.0  1.0  1.0  4.0  3.0\n",
       " 2.0  5.0  8.0  11.0  1.0  2.0  3.0  4.0\n",
       " 3.0  6.0  9.0  12.0  4.0  3.0  2.0  1.0"
      ]
     },
     "execution_count": 28,
     "metadata": {},
     "output_type": "execute_result"
    }
   ],
   "source": [
    "cat(X,Y,dims=(2))"
   ]
  },
  {
   "cell_type": "code",
   "execution_count": 29,
   "id": "b751af8a-d57a-412c-a2c2-af07d4d22d62",
   "metadata": {},
   "outputs": [
    {
     "data": {
      "text/plain": [
       "6×8 Matrix{Float64}:\n",
       " 1.0  4.0  7.0  10.0  0.0  0.0  0.0  0.0\n",
       " 2.0  5.0  8.0  11.0  0.0  0.0  0.0  0.0\n",
       " 3.0  6.0  9.0  12.0  0.0  0.0  0.0  0.0\n",
       " 0.0  0.0  0.0   0.0  1.0  1.0  4.0  3.0\n",
       " 0.0  0.0  0.0   0.0  1.0  2.0  3.0  4.0\n",
       " 0.0  0.0  0.0   0.0  4.0  3.0  2.0  1.0"
      ]
     },
     "execution_count": 29,
     "metadata": {},
     "output_type": "execute_result"
    }
   ],
   "source": [
    "cat(X,Y,dims=(1,2))"
   ]
  },
  {
   "cell_type": "markdown",
   "id": "d2868067-e600-463d-b9e0-4a6431f27cdf",
   "metadata": {},
   "source": [
    "Sometimes, we want to construct a binary array via logical statements. Take `X .== Y` as an example. For each position i, j, if X[i, j] and Y[i, j] are equal, then the corresponding entry in the result takes value 1, otherwise it takes value 0."
   ]
  },
  {
   "cell_type": "code",
   "execution_count": 30,
   "id": "645a97b5-9091-4941-870d-e708860e122f",
   "metadata": {},
   "outputs": [
    {
     "data": {
      "text/plain": [
       "3×4 BitMatrix:\n",
       " 1  0  0  0\n",
       " 0  0  0  0\n",
       " 0  0  0  0"
      ]
     },
     "execution_count": 30,
     "metadata": {},
     "output_type": "execute_result"
    }
   ],
   "source": [
    "X .== Y"
   ]
  },
  {
   "cell_type": "markdown",
   "id": "ae9b0921-2f02-47ca-9b6d-84d1212dbe43",
   "metadata": {},
   "source": [
    "Summing all the elements in the array:"
   ]
  },
  {
   "cell_type": "code",
   "execution_count": 31,
   "id": "ba9ec9ae-0bac-4f4e-8cf5-820f0e6a3a8a",
   "metadata": {},
   "outputs": [
    {
     "data": {
      "text/plain": [
       "78"
      ]
     },
     "execution_count": 31,
     "metadata": {},
     "output_type": "execute_result"
    }
   ],
   "source": [
    "reduce(+,X)"
   ]
  },
  {
   "cell_type": "markdown",
   "id": "9affb5df-144a-424f-aaba-8e5df1887baf",
   "metadata": {},
   "source": [
    "## 2.1.4. Broadcasting"
   ]
  },
  {
   "cell_type": "markdown",
   "id": "4378bb44-5b17-4c14-9134-1590f6a506d9",
   "metadata": {},
   "source": [
    "Under certain conditions, even when shapes differ, we can still perform elementwise binary operations by invoking the broadcasting mechanism. Broadcasting works according to the following two-step procedure: (i) expand one or both arrays by copying elements along dimension 2 so that after this transformation, the two arrays have the same shape; (ii) perform an elementwise operation on the resulting arrays."
   ]
  },
  {
   "cell_type": "code",
   "execution_count": 32,
   "id": "0b408b11-0193-40a3-9ff6-de6f0f9c197c",
   "metadata": {},
   "outputs": [
    {
     "data": {
      "text/plain": [
       "3×1 Matrix{Int64}:\n",
       " 1\n",
       " 2\n",
       " 3"
      ]
     },
     "execution_count": 32,
     "metadata": {},
     "output_type": "execute_result"
    }
   ],
   "source": [
    "a = reshape(collect(1:3),(3,1))"
   ]
  },
  {
   "cell_type": "code",
   "execution_count": 33,
   "id": "5beba34a-b858-4758-96cd-f692619efeb5",
   "metadata": {},
   "outputs": [
    {
     "data": {
      "text/plain": [
       "1×2 Matrix{Int64}:\n",
       " 1  2"
      ]
     },
     "execution_count": 33,
     "metadata": {},
     "output_type": "execute_result"
    }
   ],
   "source": [
    "b = reshape(collect(1:2),(1,2))"
   ]
  },
  {
   "cell_type": "code",
   "execution_count": 34,
   "id": "96e1f918-2aec-43fe-bf1b-49bdc73c5d61",
   "metadata": {},
   "outputs": [
    {
     "data": {
      "text/plain": [
       "3×2 Matrix{Int64}:\n",
       " 2  3\n",
       " 3  4\n",
       " 4  5"
      ]
     },
     "execution_count": 34,
     "metadata": {},
     "output_type": "execute_result"
    }
   ],
   "source": [
    "a.+b"
   ]
  },
  {
   "cell_type": "markdown",
   "id": "1b512ae2-7f8f-4bd2-9175-d05db7667607",
   "metadata": {},
   "source": [
    "## 2.1.5. Saving Memory"
   ]
  },
  {
   "cell_type": "markdown",
   "id": "5b338a65-7cc4-41fd-bf54-34c2a1addb96",
   "metadata": {},
   "source": [
    "Running operations can cause new memory to be allocated to host results. For example, if we write Y = Y .+ X, we dereference the array that Y used to point to and instead point Y at the newly allocated memory. We can demonstrate this issue with Julia’s `objectid()` function,  `objectid(x)==objectid(y)` if `x === y`, and for mutable values (arrays, mutable composite types), `x === y` is true if x and y are the same object, stored at the same location in memory. Note that after we run Y = Y .+ X, `objectid(Y)` points to a different location. That is because julia first evaluates `Y .+ X`, allocating new memory for the result and then points Y to this new location in memory."
   ]
  },
  {
   "cell_type": "code",
   "execution_count": 35,
   "id": "9c439d4c-ecf5-470a-813b-30424368f5c2",
   "metadata": {},
   "outputs": [
    {
     "data": {
      "text/plain": [
       "false"
      ]
     },
     "execution_count": 35,
     "metadata": {},
     "output_type": "execute_result"
    }
   ],
   "source": [
    "before = objectid(Y)\n",
    "Y = Y.+X\n",
    "objectid(Y) == before"
   ]
  },
  {
   "cell_type": "markdown",
   "id": "c7b2ac89-2649-4dca-a5e9-1709a40ea79a",
   "metadata": {},
   "source": [
    "However, `.+=` is an in-place operation:"
   ]
  },
  {
   "cell_type": "code",
   "execution_count": 36,
   "id": "6c5885ba-b7d0-487b-8efe-bcef7c1e3c6c",
   "metadata": {},
   "outputs": [
    {
     "data": {
      "text/plain": [
       "true"
      ]
     },
     "execution_count": 36,
     "metadata": {},
     "output_type": "execute_result"
    }
   ],
   "source": [
    "before = objectid(Y)\n",
    "Y .+=X\n",
    "objectid(Y) == before"
   ]
  },
  {
   "cell_type": "markdown",
   "id": "61187de0-797c-4234-8cba-778c3bb74eec",
   "metadata": {},
   "source": [
    "\"dotted\" updating operators like `a .+= b` (or `@. a += b`) are parsed as `a .= a .+ b`, where `.=` is a fused in-place assignment operation:"
   ]
  },
  {
   "cell_type": "code",
   "execution_count": 37,
   "id": "90f40880-78cf-4386-87e6-6c8b6ef75cd8",
   "metadata": {},
   "outputs": [
    {
     "data": {
      "text/plain": [
       "true"
      ]
     },
     "execution_count": 37,
     "metadata": {},
     "output_type": "execute_result"
    }
   ],
   "source": [
    "before = objectid(Y)\n",
    "Y .= Y.+X\n",
    "objectid(Y) == before"
   ]
  }
 ],
 "metadata": {
  "kernelspec": {
   "display_name": "Julia 1.9.0",
   "language": "julia",
   "name": "julia-1.9"
  },
  "language_info": {
   "file_extension": ".jl",
   "mimetype": "application/julia",
   "name": "julia",
   "version": "1.9.0"
  }
 },
 "nbformat": 4,
 "nbformat_minor": 5
}
