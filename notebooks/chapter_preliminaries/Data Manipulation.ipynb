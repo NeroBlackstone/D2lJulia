{
 "cells": [
  {
   "attachments": {},
   "cell_type": "markdown",
   "id": "6ab4a796",
   "metadata": {},
   "source": [
    "# Data Manipulation\n",
    "\n",
    "## Getting Started\n",
    "\n",
    "Creating new `Vector`:"
   ]
  },
  {
   "cell_type": "code",
   "execution_count": 1,
   "id": "c1e4a518-ca8e-411e-8a7b-2314abe14649",
   "metadata": {
    "scrolled": true
   },
   "outputs": [
    {
     "data": {
      "text/plain": [
       "12-element Vector{Float32}:\n",
       "  1.0\n",
       "  2.0\n",
       "  3.0\n",
       "  4.0\n",
       "  5.0\n",
       "  6.0\n",
       "  7.0\n",
       "  8.0\n",
       "  9.0\n",
       " 10.0\n",
       " 11.0\n",
       " 12.0"
      ]
     },
     "execution_count": 1,
     "metadata": {},
     "output_type": "execute_result"
    }
   ],
   "source": [
    "x = Float32[1.0:12.0...]"
   ]
  },
  {
   "cell_type": "code",
   "execution_count": null,
   "id": "512f60fb-c7a2-452b-8e58-3f16b1888ba2",
   "metadata": {},
   "outputs": [],
   "source": []
  }
 ],
 "metadata": {
  "kernelspec": {
   "display_name": "Julia 1.9.0",
   "language": "julia",
   "name": "julia-1.9"
  },
  "language_info": {
   "file_extension": ".jl",
   "mimetype": "application/julia",
   "name": "julia",
   "version": "1.9.0"
  }
 },
 "nbformat": 4,
 "nbformat_minor": 5
}
