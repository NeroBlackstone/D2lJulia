{
 "cells": [
  {
   "cell_type": "markdown",
   "id": "3d162d5c-67bc-4fb5-aba9-6ec01391a503",
   "metadata": {},
   "source": [
    "# 2.1. Data Manipulation\n",
    "\n",
    "## 2.1.1. Getting Started\n",
    "\n",
    "We can create new `Vector` by `UnitRange`, the syntax `a:b` with `a` and `b` creates a `UnitRange`, range starting at `a` (include) and ending at `b`(also include). `...` splits one argument into many different arguments in function calls. More usages of the [... operatior](https://docs.julialang.org/en/v1/manual/faq/#What-does-the-...-operator-do?)."
   ]
  },
  {
   "cell_type": "code",
   "execution_count": 7,
   "id": "c1e4a518-ca8e-411e-8a7b-2314abe14649",
   "metadata": {
    "scrolled": true
   },
   "outputs": [
    {
     "data": {
      "text/plain": [
       "12-element Vector{Float32}:\n",
       "  1.0\n",
       "  2.0\n",
       "  3.0\n",
       "  4.0\n",
       "  5.0\n",
       "  6.0\n",
       "  7.0\n",
       "  8.0\n",
       "  9.0\n",
       " 10.0\n",
       " 11.0\n",
       " 12.0"
      ]
     },
     "execution_count": 7,
     "metadata": {},
     "output_type": "execute_result"
    }
   ],
   "source": [
    "x = Float32[1.0:12.0...]"
   ]
  },
  {
   "cell_type": "markdown",
   "id": "7158f338-468b-4803-a057-4643ab27b623",
   "metadata": {},
   "source": [
    "This is equivalent to:"
   ]
  },
  {
   "cell_type": "code",
   "execution_count": 9,
   "id": "318be3e1-8d22-4fd0-b1ec-732065b811ae",
   "metadata": {},
   "outputs": [
    {
     "data": {
      "text/plain": [
       "12-element Vector{Float32}:\n",
       "  1.0\n",
       "  2.0\n",
       "  3.0\n",
       "  4.0\n",
       "  5.0\n",
       "  6.0\n",
       "  7.0\n",
       "  8.0\n",
       "  9.0\n",
       " 10.0\n",
       " 11.0\n",
       " 12.0"
      ]
     },
     "execution_count": 9,
     "metadata": {},
     "output_type": "execute_result"
    }
   ],
   "source": [
    "x = Vector{Float32}(1.0:12.0)\n",
    "x = collect(1.0:12.0)\n",
    "x = Float32[1.0,2.0,3.0,4.0,5.0,6.0,7.0,8.0,9.0,10.0,11.0,12.0]"
   ]
  },
  {
   "cell_type": "markdown",
   "id": "fdbe0395-a24c-4d9f-85d5-ef787d8369ae",
   "metadata": {},
   "source": [
    "The significant difference between Julia and other programming languages is that array index start from 1."
   ]
  },
  {
   "cell_type": "code",
   "execution_count": 16,
   "id": "5105f74b-93f3-4f72-a3a5-b359c3cff549",
   "metadata": {},
   "outputs": [
    {
     "data": {
      "text/plain": [
       "1.0f0"
      ]
     },
     "execution_count": 16,
     "metadata": {},
     "output_type": "execute_result"
    }
   ],
   "source": [
    "x[1]"
   ]
  },
  {
   "cell_type": "markdown",
   "id": "0e08a93c-28cf-4feb-8224-75211f1da3ac",
   "metadata": {},
   "source": [
    "In julia, `Vector` is a 1-dimensional `Array`, `Vector{Int}` is a shorthand to `Array{Int, 1}`."
   ]
  },
  {
   "cell_type": "code",
   "execution_count": 13,
   "id": "82804107-3eaa-49b3-b1e4-566586acfc1b",
   "metadata": {
    "scrolled": true
   },
   "outputs": [
    {
     "data": {
      "text/plain": [
       "true"
      ]
     },
     "execution_count": 13,
     "metadata": {},
     "output_type": "execute_result"
    }
   ],
   "source": [
    "Vector{Int} == Array{Int,1}"
   ]
  },
  {
   "cell_type": "markdown",
   "id": "39ca4fcd-8777-4e95-b993-2a417d7d3bdf",
   "metadata": {},
   "source": [
    "We can access a `Array`’s shape (the length along each axis) via the `size` function, it will return a `Tuple` containing the dimensions of the specified array. Because we are dealing with a vector here, the returned `Tuple` contains just a single element and is identical to the `length`."
   ]
  },
  {
   "cell_type": "code",
   "execution_count": 18,
   "id": "69ff56f6-6bb5-424b-b799-2c0f55282b8f",
   "metadata": {},
   "outputs": [
    {
     "data": {
      "text/plain": [
       "(12,)"
      ]
     },
     "execution_count": 18,
     "metadata": {},
     "output_type": "execute_result"
    }
   ],
   "source": [
    "size(x)"
   ]
  },
  {
   "cell_type": "markdown",
   "id": "35a041b1-f965-43ea-b47a-23ccedf180e2",
   "metadata": {},
   "source": [
    "We can inspect the total number of elements in a `Vector` or `Matrix` via the `length` function."
   ]
  },
  {
   "cell_type": "code",
   "execution_count": 15,
   "id": "8504cf22-41d9-4122-97be-9103c316fcdd",
   "metadata": {},
   "outputs": [
    {
     "data": {
      "text/plain": [
       "12"
      ]
     },
     "execution_count": 15,
     "metadata": {},
     "output_type": "execute_result"
    }
   ],
   "source": [
    "length(x)"
   ]
  },
  {
   "cell_type": "markdown",
   "id": "c6d0df95-61ff-4738-bb73-543d63572cb8",
   "metadata": {},
   "source": [
    "We can change the shape of an `Array` without altering its length or values, by invoking `reshape` function. For example, we can transform our vector x whose shape is (12,) to a matrix X with shape (3, 4). This new matrix retains all elements. Notice that the elements of our vector are laid out one row at a time and thus x[3] == X[1,3]."
   ]
  },
  {
   "cell_type": "code",
   "execution_count": 17,
   "id": "913c7b7b-922d-499f-a3b7-9dd19c094dc8",
   "metadata": {},
   "outputs": [
    {
     "data": {
      "text/plain": [
       "3×4 Matrix{Float32}:\n",
       " 1.0  4.0  7.0  10.0\n",
       " 2.0  5.0  8.0  11.0\n",
       " 3.0  6.0  9.0  12.0"
      ]
     },
     "execution_count": 17,
     "metadata": {},
     "output_type": "execute_result"
    }
   ],
   "source": [
    "X = reshape(x,3,4)"
   ]
  },
  {
   "cell_type": "markdown",
   "id": "21070e3d-64c7-4a85-8889-0c27d0555bfc",
   "metadata": {},
   "source": [
    "Like `Vector`, `Matrix` is an alias for 2-dimensional Array."
   ]
  },
  {
   "cell_type": "code",
   "execution_count": 14,
   "id": "663460ed-d9e2-4dbc-8be9-c97ce0d4d960",
   "metadata": {
    "scrolled": true
   },
   "outputs": [
    {
     "data": {
      "text/plain": [
       "true"
      ]
     },
     "execution_count": 14,
     "metadata": {},
     "output_type": "execute_result"
    }
   ],
   "source": [
    "Matrix{Int} == Array{Int,2}"
   ]
  },
  {
   "cell_type": "markdown",
   "id": "db059376-5233-4aa0-a547-08a7fe79f9bd",
   "metadata": {},
   "source": [
    "The new dimensions may be specified either as a list of arguments or as a shape tuple,`reshape(x,(3,4))`. At most one dimension may be specified with a `:`, in which case its length is computed such that its product with all the specified dimensions is equal to the length of the original array x, we could have equivalently called `reshape(x, 3, :)` or `reshape(x, :, 4)`."
   ]
  },
  {
   "cell_type": "markdown",
   "id": "2edfda2e-d231-4011-bbc1-bedca35b41e3",
   "metadata": {},
   "source": [
    "We can also construct higher dimensional `Array` with reshape function. More about [multi-dimensional Arrays](https://docs.julialang.org/en/v1/manual/arrays/#man-multi-dim-arrays)."
   ]
  },
  {
   "cell_type": "code",
   "execution_count": 19,
   "id": "7c0582b1-de23-4e44-af06-09ef416e401a",
   "metadata": {},
   "outputs": [
    {
     "data": {
      "text/plain": [
       "2×2×3 Array{Float32, 3}:\n",
       "[:, :, 1] =\n",
       " 1.0  3.0\n",
       " 2.0  4.0\n",
       "\n",
       "[:, :, 2] =\n",
       " 5.0  7.0\n",
       " 6.0  8.0\n",
       "\n",
       "[:, :, 3] =\n",
       "  9.0  11.0\n",
       " 10.0  12.0"
      ]
     },
     "execution_count": 19,
     "metadata": {},
     "output_type": "execute_result"
    }
   ],
   "source": [
    "X2 = reshape(x,2,2,3)"
   ]
  },
  {
   "cell_type": "markdown",
   "id": "398bf7e9-b340-4c24-8e17-50c1758be6dc",
   "metadata": {},
   "source": [
    "We can construct a n-d `Array` with all elements set to zero and a shape of (2, 3, 4) via the `zeros` function."
   ]
  },
  {
   "cell_type": "code",
   "execution_count": 26,
   "id": "c23e496f-c164-48a6-86a2-c84625adfadb",
   "metadata": {},
   "outputs": [
    {
     "data": {
      "text/plain": [
       "2×3×4 Array{Int64, 3}:\n",
       "[:, :, 1] =\n",
       " 0  0  0\n",
       " 0  0  0\n",
       "\n",
       "[:, :, 2] =\n",
       " 0  0  0\n",
       " 0  0  0\n",
       "\n",
       "[:, :, 3] =\n",
       " 0  0  0\n",
       " 0  0  0\n",
       "\n",
       "[:, :, 4] =\n",
       " 0  0  0\n",
       " 0  0  0"
      ]
     },
     "execution_count": 26,
     "metadata": {},
     "output_type": "execute_result"
    }
   ],
   "source": [
    "zeros(Int,(2, 3, 4))"
   ]
  },
  {
   "cell_type": "markdown",
   "id": "43e7a440-ce41-40ec-82ae-5e2e0e844d75",
   "metadata": {},
   "source": [
    "Similarly, we can create a n-d `Array` with all ones by invoking `ones`."
   ]
  },
  {
   "cell_type": "code",
   "execution_count": 27,
   "id": "b71e72c1-be86-42d6-888f-42463b30011a",
   "metadata": {},
   "outputs": [
    {
     "data": {
      "text/plain": [
       "2×3×4 Array{Float64, 3}:\n",
       "[:, :, 1] =\n",
       " 1.0  1.0  1.0\n",
       " 1.0  1.0  1.0\n",
       "\n",
       "[:, :, 2] =\n",
       " 1.0  1.0  1.0\n",
       " 1.0  1.0  1.0\n",
       "\n",
       "[:, :, 3] =\n",
       " 1.0  1.0  1.0\n",
       " 1.0  1.0  1.0\n",
       "\n",
       "[:, :, 4] =\n",
       " 1.0  1.0  1.0\n",
       " 1.0  1.0  1.0"
      ]
     },
     "execution_count": 27,
     "metadata": {},
     "output_type": "execute_result"
    }
   ],
   "source": [
    "ones((2, 3, 4))"
   ]
  },
  {
   "cell_type": "markdown",
   "id": "451740ac-b01a-4f67-bd29-f72ff4d5f826",
   "metadata": {},
   "source": [
    "We often wish to sample each element randomly (and independently) from a given probability distribution. For example, the parameters of neural networks are often initialized randomly. The following snippet creates a matrix with elements drawn from a standard Gaussian (normal) distribution with mean 0 and standard deviation 1."
   ]
  },
  {
   "cell_type": "code",
   "execution_count": 28,
   "id": "c46a920d-e3ea-429b-8f8b-79ca6b23863a",
   "metadata": {},
   "outputs": [
    {
     "data": {
      "text/plain": [
       "3×4 Matrix{Float64}:\n",
       " -0.484644  -1.28343    -0.00951393   1.30921\n",
       "  0.971286  -0.0230278   0.38414      0.43183\n",
       " -2.01958   -0.307547    1.55154     -0.774292"
      ]
     },
     "execution_count": 28,
     "metadata": {},
     "output_type": "execute_result"
    }
   ],
   "source": [
    "randn((3,4))"
   ]
  },
  {
   "cell_type": "markdown",
   "id": "1d21ebe5-8609-4486-9136-a83dac98bf21",
   "metadata": {},
   "source": [
    "Finally, we can construct matrix by supplying the exact values for each element."
   ]
  },
  {
   "cell_type": "code",
   "execution_count": 32,
   "id": "ec609eba-84d8-42fb-82ef-8a01132f2a9c",
   "metadata": {},
   "outputs": [
    {
     "data": {
      "text/plain": [
       "3×4 Matrix{Int64}:\n",
       " 2  1  4  3\n",
       " 1  2  3  4\n",
       " 4  3  4  1"
      ]
     },
     "execution_count": 32,
     "metadata": {},
     "output_type": "execute_result"
    }
   ],
   "source": [
    "[2 1 4 3;\n",
    "1 2 3 4;\n",
    "4 3 4 1;]"
   ]
  },
  {
   "cell_type": "markdown",
   "id": "862e073c-38e0-49a9-9b0f-55eb4f98e783",
   "metadata": {},
   "source": [
    "## 2.1.2. Indexing and Slicing"
   ]
  },
  {
   "cell_type": "code",
   "execution_count": null,
   "id": "238eac98-3ff6-4e15-8b85-d9aaafe2f3d0",
   "metadata": {},
   "outputs": [],
   "source": []
  }
 ],
 "metadata": {
  "kernelspec": {
   "display_name": "Julia 1.9.1",
   "language": "julia",
   "name": "julia-1.9"
  },
  "language_info": {
   "file_extension": ".jl",
   "mimetype": "application/julia",
   "name": "julia",
   "version": "1.9.1"
  }
 },
 "nbformat": 4,
 "nbformat_minor": 5
}
