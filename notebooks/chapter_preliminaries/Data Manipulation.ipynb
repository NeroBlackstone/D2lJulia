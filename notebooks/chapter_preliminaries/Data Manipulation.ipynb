{
 "cells": [
  {
   "cell_type": "code",
   "execution_count": null,
   "id": "a9843624-d9e6-4cb9-aa08-a557fbd0a43a",
   "metadata": {},
   "outputs": [],
   "source": [
    "Creating new `Vector`:"
   ]
  },
  {
   "cell_type": "code",
   "execution_count": 4,
   "id": "c1e4a518-ca8e-411e-8a7b-2314abe14649",
   "metadata": {
    "scrolled": true
   },
   "outputs": [
    {
     "data": {
      "text/plain": [
       "12-element Vector{Float32}:\n",
       "  1.0\n",
       "  2.0\n",
       "  3.0\n",
       "  4.0\n",
       "  5.0\n",
       "  6.0\n",
       "  7.0\n",
       "  8.0\n",
       "  9.0\n",
       " 10.0\n",
       " 11.0\n",
       " 12.0"
      ]
     },
     "execution_count": 4,
     "metadata": {},
     "output_type": "execute_result"
    }
   ],
   "source": [
    "x = Float32[1.0:12.0...]"
   ]
  },
  {
   "cell_type": "code",
   "execution_count": null,
   "id": "8306e4fa-cead-430f-82a6-ac19a1e132e8",
   "metadata": {},
   "outputs": [],
   "source": []
  }
 ],
 "metadata": {
  "kernelspec": {
   "display_name": "Julia 1.9.0",
   "language": "julia",
   "name": "julia-1.9"
  },
  "language_info": {
   "file_extension": ".jl",
   "mimetype": "application/julia",
   "name": "julia",
   "version": "1.9.0"
  }
 },
 "nbformat": 4,
 "nbformat_minor": 5
}
