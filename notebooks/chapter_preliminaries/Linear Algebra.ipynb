{
 "cells": [
  {
   "cell_type": "markdown",
   "id": "84073e93-4ae6-416a-ba60-025a57793cff",
   "metadata": {},
   "source": [
    "# Linear Algebra\n",
    "\n",
    "By now, we can load datasets into Arrays and manipulate these Arrays with basic mathematical operations. To start building sophisticated models, we will also need a few tools from linear algebra. This section offers a gentle introduction to the most essential concepts, starting from scalar arithmetic and ramping up to matrix multiplication.\n",
    "\n",
    "## Scalars\n",
    "\n",
    "Scalars are implemented as numbers. Below, we assign two scalars and perform the familiar addition, multiplication, division, and exponentiation operations."
   ]
  },
  {
   "cell_type": "code",
   "execution_count": 1,
   "id": "e581b295-065e-4dd9-b54a-3c48f5e225f3",
   "metadata": {},
   "outputs": [
    {
     "data": {
      "text/plain": [
       "(5.0, 6.0, 1.5, 9.0)"
      ]
     },
     "execution_count": 1,
     "metadata": {},
     "output_type": "execute_result"
    }
   ],
   "source": [
    "x = 3.0\n",
    "y = 2.0\n",
    "\n",
    "x + y, x * y, x / y, x^y"
   ]
  },
  {
   "cell_type": "markdown",
   "id": "8fca2445-214f-41f5-8946-92f2a12ffb02",
   "metadata": {},
   "source": [
    "## Vectors\n",
    "\n",
    "For our purposes, you can think of vectors as fixed-length arrays of scalars."
   ]
  },
  {
   "cell_type": "code",
   "execution_count": 2,
   "id": "5f4b2309-d57a-45a5-90b9-edfb1b925483",
   "metadata": {},
   "outputs": [
    {
     "data": {
      "text/plain": [
       "3-element Vector{Int64}:\n",
       " 1\n",
       " 2\n",
       " 3"
      ]
     },
     "execution_count": 2,
     "metadata": {},
     "output_type": "execute_result"
    }
   ],
   "source": [
    "x = collect(1:3)"
   ]
  },
  {
   "cell_type": "markdown",
   "id": "3e77672f-1129-4bbb-9e70-2456ed81ddcb",
   "metadata": {},
   "source": [
    "Recall that we access a vector’s elements via indexing."
   ]
  },
  {
   "cell_type": "code",
   "execution_count": 3,
   "id": "c7eead3f-4790-4de9-b26b-16c678e14d54",
   "metadata": {},
   "outputs": [
    {
     "data": {
      "text/plain": [
       "3"
      ]
     },
     "execution_count": 3,
     "metadata": {},
     "output_type": "execute_result"
    }
   ],
   "source": [
    "x[3]"
   ]
  },
  {
   "cell_type": "markdown",
   "id": "dd4985ec-b0e0-4bee-89f1-540416770131",
   "metadata": {},
   "source": [
    "In code, this corresponds to the vector’s length, accessible via Julia’s built-in `length` function."
   ]
  },
  {
   "cell_type": "code",
   "execution_count": 4,
   "id": "1958c4bd-2383-43e9-99f3-322d2487938d",
   "metadata": {},
   "outputs": [
    {
     "data": {
      "text/plain": [
       "3"
      ]
     },
     "execution_count": 4,
     "metadata": {},
     "output_type": "execute_result"
    }
   ],
   "source": [
    "length(x)"
   ]
  },
  {
   "cell_type": "markdown",
   "id": "c1fa8b5d-f5fa-4f63-8869-6d01a7905a9b",
   "metadata": {},
   "source": [
    "We can also access the length via the `size` function. The size is a tuple that indicates a array’s length along each axis. Arrays with just one axis have shapes with just one element."
   ]
  },
  {
   "cell_type": "code",
   "execution_count": 5,
   "id": "b136f33c-da6f-45c5-ad4b-64ff58233293",
   "metadata": {},
   "outputs": [
    {
     "data": {
      "text/plain": [
       "(3,)"
      ]
     },
     "execution_count": 5,
     "metadata": {},
     "output_type": "execute_result"
    }
   ],
   "source": [
    "size(x)"
   ]
  },
  {
   "cell_type": "markdown",
   "id": "bd84ab27-bf42-422d-bac8-754a00398cd2",
   "metadata": {},
   "source": [
    "## Matrices\n",
    "\n",
    "We can construct any appropriately sized `m x n` matrix by passing the desired shape to reshape:"
   ]
  },
  {
   "cell_type": "code",
   "execution_count": 6,
   "id": "73c1ec26-7117-4824-8de4-9e69f295170a",
   "metadata": {},
   "outputs": [
    {
     "data": {
      "text/plain": [
       "3×2 reshape(::UnitRange{Int64}, 3, 2) with eltype Int64:\n",
       " 1  4\n",
       " 2  5\n",
       " 3  6"
      ]
     },
     "execution_count": 6,
     "metadata": {},
     "output_type": "execute_result"
    }
   ],
   "source": [
    "A = reshape((1:6),3,2)"
   ]
  },
  {
   "cell_type": "markdown",
   "id": "1c95b045-e2f5-4e58-bb88-2eee9717f9d6",
   "metadata": {},
   "source": [
    "In code, we can access any matrix’s transpose as follows:"
   ]
  },
  {
   "cell_type": "code",
   "execution_count": 7,
   "id": "c3f30dd5-f924-40d1-a495-777574769622",
   "metadata": {},
   "outputs": [
    {
     "data": {
      "text/plain": [
       "2×3 adjoint(reshape(::UnitRange{Int64}, 3, 2)) with eltype Int64:\n",
       " 1  2  3\n",
       " 4  5  6"
      ]
     },
     "execution_count": 7,
     "metadata": {},
     "output_type": "execute_result"
    }
   ],
   "source": [
    "A'"
   ]
  },
  {
   "cell_type": "markdown",
   "id": "898f48c1-d134-44ae-b484-b51875a607c8",
   "metadata": {},
   "source": [
    "The following matrix is symmetric:"
   ]
  },
  {
   "cell_type": "code",
   "execution_count": 8,
   "id": "1c1cb5ed-84d1-4f1b-b5b1-1cef06e318f6",
   "metadata": {},
   "outputs": [
    {
     "data": {
      "text/plain": [
       "true"
      ]
     },
     "execution_count": 8,
     "metadata": {},
     "output_type": "execute_result"
    }
   ],
   "source": [
    "A = [1 2 3;2 0 4;3 4 5]\n",
    "A == A'"
   ]
  },
  {
   "cell_type": "markdown",
   "id": "5ba75afe-3bb6-44ea-9ce8-5381a0a32fc5",
   "metadata": {},
   "source": [
    "Matrices are useful for representing datasets. Typically, rows correspond to individual records and columns correspond to distinct attributes.\n",
    "\n",
    "## Arrays\n",
    "\n",
    "Multi-dimensional arrays are constructed analogously to vectors and matrices, by growing the number of shape components."
   ]
  },
  {
   "cell_type": "code",
   "execution_count": 9,
   "id": "43eee30d-7cbf-427d-bd55-08c945e1da04",
   "metadata": {},
   "outputs": [
    {
     "data": {
      "text/plain": [
       "2×3×4 reshape(::UnitRange{Int64}, 2, 3, 4) with eltype Int64:\n",
       "[:, :, 1] =\n",
       " 1  3  5\n",
       " 2  4  6\n",
       "\n",
       "[:, :, 2] =\n",
       " 7   9  11\n",
       " 8  10  12\n",
       "\n",
       "[:, :, 3] =\n",
       " 13  15  17\n",
       " 14  16  18\n",
       "\n",
       "[:, :, 4] =\n",
       " 19  21  23\n",
       " 20  22  24"
      ]
     },
     "execution_count": 9,
     "metadata": {},
     "output_type": "execute_result"
    }
   ],
   "source": [
    "reshape(1:24,2,3,4)"
   ]
  },
  {
   "cell_type": "markdown",
   "id": "9e2ddf33-40fa-41fa-bf3d-a03845ee9981",
   "metadata": {},
   "source": [
    "## Basic Properties of Array Arithmetic\n",
    "\n",
    "Scalars, vectors, matrices, and Multi-dimensional arrays all have some handy properties. For example, elementwise operations produce outputs that have the same shape as their operands."
   ]
  },
  {
   "cell_type": "code",
   "execution_count": 10,
   "id": "63f24d9e-8039-42fb-8405-0fec1fc4dc13",
   "metadata": {},
   "outputs": [
    {
     "data": {
      "text/plain": [
       "2×3 reshape(::UnitRange{Int64}, 2, 3) with eltype Int64:\n",
       " 1  3  5\n",
       " 2  4  6"
      ]
     },
     "metadata": {},
     "output_type": "display_data"
    },
    {
     "data": {
      "text/plain": [
       "2×3 Matrix{Int64}:\n",
       " 2  6  10\n",
       " 4  8  12"
      ]
     },
     "metadata": {},
     "output_type": "display_data"
    }
   ],
   "source": [
    "A = reshape(1:6,2,3)\n",
    "B = copy(A)\n",
    "display(A),display(A + B);"
   ]
  },
  {
   "cell_type": "markdown",
   "id": "e464f863-b275-405f-8346-b8e802781a3b",
   "metadata": {},
   "source": [
    "The elementwise product of two matrices is called their Hadamard product:"
   ]
  },
  {
   "cell_type": "code",
   "execution_count": 11,
   "id": "df9662fe-3312-4829-a388-60ff36fa4815",
   "metadata": {},
   "outputs": [
    {
     "data": {
      "text/plain": [
       "2×3 Matrix{Int64}:\n",
       " 1   9  25\n",
       " 4  16  36"
      ]
     },
     "execution_count": 11,
     "metadata": {},
     "output_type": "execute_result"
    }
   ],
   "source": [
    "A .* B"
   ]
  },
  {
   "cell_type": "markdown",
   "id": "f8b1b685-364f-4d03-b31b-7425c97cc723",
   "metadata": {},
   "source": [
    "Adding or multiplying a scalar and an array produces a result with the same shape as the original array. Here, each element of the array is added to (or multiplied by) the scalar."
   ]
  },
  {
   "cell_type": "code",
   "execution_count": 12,
   "id": "dd71b488-3bc9-48b4-85f9-36c5ed28b24d",
   "metadata": {},
   "outputs": [
    {
     "data": {
      "text/plain": [
       "2×3×4 Array{Int64, 3}:\n",
       "[:, :, 1] =\n",
       " 3  5  7\n",
       " 4  6  8\n",
       "\n",
       "[:, :, 2] =\n",
       "  9  11  13\n",
       " 10  12  14\n",
       "\n",
       "[:, :, 3] =\n",
       " 15  17  19\n",
       " 16  18  20\n",
       "\n",
       "[:, :, 4] =\n",
       " 21  23  25\n",
       " 22  24  26"
      ]
     },
     "metadata": {},
     "output_type": "display_data"
    },
    {
     "data": {
      "text/plain": [
       "(2, 3, 4)"
      ]
     },
     "execution_count": 12,
     "metadata": {},
     "output_type": "execute_result"
    }
   ],
   "source": [
    "a = 2\n",
    "X = reshape(1:24,2,3,4)\n",
    "display(a .+ X)\n",
    "size(a .* X)"
   ]
  },
  {
   "cell_type": "markdown",
   "id": "88d02fea-5e81-4521-b95a-3517127a1e77",
   "metadata": {},
   "source": [
    "## Reduction\n",
    "\n",
    "Often, we wish to calculate the sum of a array’s elements."
   ]
  },
  {
   "cell_type": "code",
   "execution_count": 13,
   "id": "2db41f40-cd63-40e0-8076-3c789e1daf12",
   "metadata": {},
   "outputs": [
    {
     "data": {
      "text/plain": [
       "(Float32[1.0, 2.0, 3.0], 6.0f0)"
      ]
     },
     "execution_count": 13,
     "metadata": {},
     "output_type": "execute_result"
    }
   ],
   "source": [
    "x = Float32[1:3...]\n",
    "x, sum(x)"
   ]
  },
  {
   "cell_type": "markdown",
   "id": "e8fac492-5c1a-41f0-9e75-77fefa4c321a",
   "metadata": {},
   "source": [
    "To express sums over the elements of arrays of arbitrary shape, we simply sum over all of its dimensions."
   ]
  },
  {
   "cell_type": "code",
   "execution_count": 14,
   "id": "b36f2b75-b7c9-48cf-960f-d06a475f73a0",
   "metadata": {},
   "outputs": [
    {
     "data": {
      "text/plain": [
       "((2, 3), 21)"
      ]
     },
     "execution_count": 14,
     "metadata": {},
     "output_type": "execute_result"
    }
   ],
   "source": [
    "size(A),sum(A)"
   ]
  },
  {
   "cell_type": "markdown",
   "id": "4544b522-d86b-43c9-a2f7-446967d384ae",
   "metadata": {},
   "source": [
    "By default, invoking the `sum` function reduces a array length along all of its dimensions, but it will not producing a scalar. Julia also allow us to specify the dimensions along which the array should be reduced. To sum over all elements along the rows (dimension 2), we specify `dims=2` in `sum`. Since the input matrix reduces along dimension 2 to generate the output `2 x 1` matrix, this dimension length reduceds to 1. We can use `dropdims` to drop singleton dimensions in array."
   ]
  },
  {
   "cell_type": "code",
   "execution_count": 15,
   "id": "97a44ee5-cf89-4c76-b2de-b27b2fad921f",
   "metadata": {},
   "outputs": [
    {
     "data": {
      "text/plain": [
       "((2, 3), (2, 1), (2,))"
      ]
     },
     "execution_count": 15,
     "metadata": {},
     "output_type": "execute_result"
    }
   ],
   "source": [
    "size(A), size(sum(A,dims=2)),size(dropdims(sum(A,dims=2),dims=2))"
   ]
  },
  {
   "cell_type": "markdown",
   "id": "1e18da1c-5a7f-4e93-abd2-b4adf10bacfc",
   "metadata": {},
   "source": [
    "Specifying `dims=1` in `sum` funcion will generate a `1 x 3` matrix. "
   ]
  },
  {
   "cell_type": "code",
   "execution_count": 16,
   "id": "b231a909-f68c-4b1f-b127-7627071febf9",
   "metadata": {},
   "outputs": [
    {
     "data": {
      "text/plain": [
       "((2, 3), (1, 3), (3,))"
      ]
     },
     "execution_count": 16,
     "metadata": {},
     "output_type": "execute_result"
    }
   ],
   "source": [
    "size(A), size(sum(A,dims=1)),size(dropdims(sum(A,dims=1),dims=1))"
   ]
  },
  {
   "cell_type": "markdown",
   "id": "82230b49-9adf-4d5c-bf27-3995ee798aa5",
   "metadata": {},
   "source": [
    "Reducing a matrix along both rows and columns via summation is not equivalent to summing up all the elements of the matrix, although matrix shape will reduce to (1,1) and has only one value 21."
   ]
  },
  {
   "cell_type": "code",
   "execution_count": 17,
   "id": "5c973a66-2650-49bd-8d4a-d524a71671b4",
   "metadata": {},
   "outputs": [
    {
     "data": {
      "text/plain": [
       "true"
      ]
     },
     "execution_count": 17,
     "metadata": {},
     "output_type": "execute_result"
    }
   ],
   "source": [
    "first(sum(A,dims=(1,2))) == sum(A)"
   ]
  },
  {
   "cell_type": "markdown",
   "id": "06c062d0-310e-4f9b-a628-ddf0ef374200",
   "metadata": {},
   "source": [
    "A related quantity is the `mean`, also called the average. We calculate the mean by dividing the sum by the total number of elements. Because computing the mean is so common, it gets a dedicated library function that works analogously to sum."
   ]
  },
  {
   "cell_type": "code",
   "execution_count": 18,
   "id": "e0c93177-6871-4515-b9a4-cf7e43a9609e",
   "metadata": {},
   "outputs": [
    {
     "data": {
      "text/plain": [
       "(3.5, 3.5)"
      ]
     },
     "execution_count": 18,
     "metadata": {},
     "output_type": "execute_result"
    }
   ],
   "source": [
    "using Statistics\n",
    "mean(A),sum(A)/length(A)"
   ]
  },
  {
   "cell_type": "markdown",
   "id": "e6073281-727d-4a44-b5f8-a621e3396207",
   "metadata": {},
   "source": [
    "Likewise, the function for calculating the mean can also reduce a array along specific dimensions."
   ]
  },
  {
   "cell_type": "code",
   "execution_count": 19,
   "id": "83c15a8b-1aa3-4d41-a975-516b669b18d6",
   "metadata": {},
   "outputs": [
    {
     "data": {
      "text/plain": [
       "([3.0; 4.0;;], [3.0; 4.0;;])"
      ]
     },
     "execution_count": 19,
     "metadata": {},
     "output_type": "execute_result"
    }
   ],
   "source": [
    "mean(A,dims=2),sum(A,dims=2)/size(A,2)"
   ]
  },
  {
   "cell_type": "code",
   "execution_count": null,
   "id": "e99080ae-d22c-431e-b8ff-c2a7604a504b",
   "metadata": {},
   "outputs": [],
   "source": []
  }
 ],
 "metadata": {
  "kernelspec": {
   "display_name": "Julia 1.9.1",
   "language": "julia",
   "name": "julia-1.9"
  },
  "language_info": {
   "file_extension": ".jl",
   "mimetype": "application/julia",
   "name": "julia",
   "version": "1.9.1"
  }
 },
 "nbformat": 4,
 "nbformat_minor": 5
}
