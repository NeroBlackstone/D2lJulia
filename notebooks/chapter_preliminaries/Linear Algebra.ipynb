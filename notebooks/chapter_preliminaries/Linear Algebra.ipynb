{
 "cells": [
  {
   "cell_type": "markdown",
   "id": "84073e93-4ae6-416a-ba60-025a57793cff",
   "metadata": {},
   "source": [
    "# Linear Algebra\n",
    "\n",
    "By now, we can load datasets into Arrays and manipulate these Arrays with basic mathematical operations. To start building sophisticated models, we will also need a few tools from linear algebra. This section offers a gentle introduction to the most essential concepts, starting from scalar arithmetic and ramping up to matrix multiplication.\n",
    "\n",
    "## Scalars\n",
    "\n",
    "Scalars are implemented as number. Below, we assign two scalars and perform the familiar addition, multiplication, division, and exponentiation operations."
   ]
  },
  {
   "cell_type": "code",
   "execution_count": null,
   "id": "e581b295-065e-4dd9-b54a-3c48f5e225f3",
   "metadata": {},
   "outputs": [],
   "source": [
    "x = 3.0\n",
    "y = 2.0\n",
    "\n",
    "x + y, x * y, x / y, x^y"
   ]
  },
  {
   "cell_type": "code",
   "execution_count": null,
   "id": "1f6a717c-16f8-4ab4-a447-6fa7d312402a",
   "metadata": {},
   "outputs": [],
   "source": []
  }
 ],
 "metadata": {
  "kernelspec": {
   "display_name": "Julia 1.9.1",
   "language": "julia",
   "name": "julia-1.9"
  },
  "language_info": {
   "file_extension": ".jl",
   "mimetype": "application/julia",
   "name": "julia",
   "version": "1.9.1"
  }
 },
 "nbformat": 4,
 "nbformat_minor": 5
}
