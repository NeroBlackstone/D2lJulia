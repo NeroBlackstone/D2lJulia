{
 "cells": [
  {
   "cell_type": "markdown",
   "id": "b0822fa0-d720-4f6a-9b60-27b364efc367",
   "metadata": {},
   "source": [
    "# Calculus\n",
    "\n",
    "## Derivatives and Differentiation\n",
    "\n",
    "Let’s develop some intuition with an example. "
   ]
  },
  {
   "cell_type": "code",
   "execution_count": 1,
   "id": "5b511b1e-30fc-42ef-b710-b1600d8cfd3e",
   "metadata": {},
   "outputs": [
    {
     "data": {
      "text/plain": [
       "f (generic function with 1 method)"
      ]
     },
     "execution_count": 1,
     "metadata": {},
     "output_type": "execute_result"
    }
   ],
   "source": [
    "f(x) = 3x^2-4x"
   ]
  },
  {
   "cell_type": "code",
   "execution_count": null,
   "id": "06e976cd-c9da-400d-ba12-17a0f3e7c5fb",
   "metadata": {},
   "outputs": [],
   "source": []
  }
 ],
 "metadata": {
  "kernelspec": {
   "display_name": "Julia 1.9.0",
   "language": "julia",
   "name": "julia-1.9"
  },
  "language_info": {
   "file_extension": ".jl",
   "mimetype": "application/julia",
   "name": "julia",
   "version": "1.9.0"
  }
 },
 "nbformat": 4,
 "nbformat_minor": 5
}
