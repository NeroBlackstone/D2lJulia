{
 "cells": [
  {
   "attachments": {},
   "cell_type": "markdown",
   "id": "e56df966-3e26-4ef0-88ec-abb4f80050f6",
   "metadata": {},
   "source": [
    "# Automatic Differentiation\n",
    "\n",
    "Recall from Section 2.4 that calculating derivatives is the crucial step in all of the optimization algorithms that we will use to train deep networks. While the calculations are straightforward, working them out by hand can be tedious and error-prone, and this problem only grows as our models become more complex.\n",
    "\n",
    "Fortunately all modern deep learning frameworks take this work off of our plates by offering automatic differentiation (often shortened to autograd). As we pass data through each successive function, the framework builds a computational graph that tracks how each value depends on others. To calculate derivatives, automatic differentiation works backwards through this graph applying the chain rule. The computational algorithm for applying the chain rule in this fashion is called backpropagation.\n",
    "\n",
    "While autograd libraries have become a hot concern over the past decade, they have a long history. In fact the earliest references to autograd date back over half of a century (Wengert, 1964). The core ideas behind modern backpropagation date to a PhD thesis from 1980 (Speelpenning, 1980) and were further developed in the late 1980s (Griewank, 1989). While backpropagation has become the default method for computing gradients, it is not the only option. For instance, the Julia programming language employs forward propagation (Revels et al., 2016). Before exploring methods, let’s first master the [Zygote](https://fluxml.ai/Zygote.jl/) package.\n",
    "\n",
    "## A Simple Function\n",
    "\n",
    "To start, we assign x an initial value."
   ]
  },
  {
   "cell_type": "code",
   "execution_count": 1,
   "id": "92874c27-c7a4-4692-b7f7-876f6200ea1e",
   "metadata": {},
   "outputs": [
    {
     "data": {
      "text/plain": [
       "4-element Vector{Float64}:\n",
       " 1.0\n",
       " 2.0\n",
       " 3.0\n",
       " 4.0"
      ]
     },
     "execution_count": 1,
     "metadata": {},
     "output_type": "execute_result"
    }
   ],
   "source": [
    "x = collect(1.0:4.0)"
   ]
  },
  {
   "attachments": {},
   "cell_type": "markdown",
   "id": "3a564a2b-0d21-4e78-9a59-91662651e494",
   "metadata": {},
   "source": [
    "We now define a function of x."
   ]
  },
  {
   "cell_type": "code",
   "execution_count": 2,
   "id": "4f9424c6",
   "metadata": {},
   "outputs": [
    {
     "data": {
      "text/plain": [
       "y (generic function with 1 method)"
      ]
     },
     "execution_count": 2,
     "metadata": {},
     "output_type": "execute_result"
    }
   ],
   "source": [
    "using LinearAlgebra\n",
    "\n",
    "y(x) = 2x⋅x"
   ]
  },
  {
   "attachments": {},
   "cell_type": "markdown",
   "id": "b4a6eed6",
   "metadata": {},
   "source": [
    "We can now take the gradient of y with respect to x by using `'` operator."
   ]
  },
  {
   "cell_type": "code",
   "execution_count": 3,
   "id": "8f5bc8a5-2bf7-469d-b2e2-24899c79023f",
   "metadata": {},
   "outputs": [
    {
     "data": {
      "text/plain": [
       "4-element Vector{Float64}:\n",
       "  4.0\n",
       "  8.0\n",
       " 12.0\n",
       " 16.0"
      ]
     },
     "execution_count": 3,
     "metadata": {},
     "output_type": "execute_result"
    }
   ],
   "source": [
    "using Zygote\n",
    "\n",
    "grad = y'.(x)"
   ]
  },
  {
   "cell_type": "markdown",
   "id": "23b52f89-9b82-4bc9-8460-5487224bce74",
   "metadata": {},
   "source": [
    "We can now verify that the automatic gradient computation and the expected result are identical."
   ]
  },
  {
   "cell_type": "code",
   "execution_count": 4,
   "id": "f8aa8381-bca9-4980-8a89-8358741bf1be",
   "metadata": {},
   "outputs": [
    {
     "data": {
      "text/plain": [
       "true"
      ]
     },
     "execution_count": 4,
     "metadata": {},
     "output_type": "execute_result"
    }
   ],
   "source": [
    "grad == 4x"
   ]
  },
  {
   "cell_type": "markdown",
   "id": "e3052c21-76df-49b3-a588-6ed05759dbb2",
   "metadata": {},
   "source": [
    "Now let’s calculate another function of x and take its gradient."
   ]
  },
  {
   "cell_type": "code",
   "execution_count": 5,
   "id": "d86607be-ca25-4d9f-bfa6-601f3850c67f",
   "metadata": {},
   "outputs": [
    {
     "data": {
      "text/plain": [
       "4-element Vector{Float64}:\n",
       " 1.0\n",
       " 1.0\n",
       " 1.0\n",
       " 1.0"
      ]
     },
     "execution_count": 5,
     "metadata": {},
     "output_type": "execute_result"
    }
   ],
   "source": [
    "y(x) = sum(x)\n",
    "y'.(x)"
   ]
  },
  {
   "cell_type": "markdown",
   "id": "43116c42-94bb-4136-bd3a-acc00096a28c",
   "metadata": {},
   "source": [
    "## Backward for Non-Scalar Variables\n",
    "\n",
    "When y is a vector, the most natural interpretation of the derivative of y with respect to a vector x is a matrix called the Jacobian that contains the partial derivatives of each component of y with respect to each component of x. Likewise, for higher-order y and x, the differentiation result could be an even higher-order tensor.\n",
    "\n",
    "While Jacobians do show up in some advanced machine learning techniques, more commonly we want to sum up the gradients of each component of y with respect to the full vector x, yielding a vector of the same shape as x. For example, we often have a vector representing the value of our loss function calculated separately for each example among a batch of training examples. Here, we just want to sum up the gradients computed individually for each example."
   ]
  },
  {
   "cell_type": "code",
   "execution_count": 6,
   "id": "a5e2ab39-e9b0-4250-8863-2c28e242979f",
   "metadata": {},
   "outputs": [
    {
     "data": {
      "text/plain": [
       "4-element Vector{Float64}:\n",
       " 2.0\n",
       " 4.0\n",
       " 6.0\n",
       " 8.0"
      ]
     },
     "execution_count": 6,
     "metadata": {},
     "output_type": "execute_result"
    }
   ],
   "source": [
    "y(x) = x.*x\n",
    "y'.(x)"
   ]
  },
  {
   "cell_type": "markdown",
   "id": "2494cfdb-520d-4fd7-91d5-0287188261af",
   "metadata": {},
   "source": [
    "## Detaching Computation\n",
    "\n",
    "Sometimes, we wish to move some calculations outside of the recorded computational graph. For example, say that we use the input to create some auxiliary intermediate terms for which we do not want to compute a gradient. In this case, we need to detach the respective computational graph from the final result. The following toy example makes this clearer: suppose we have z = x * y and y = x * x but we want to focus on the direct influence of x on z rather than the influence conveyed via y. In this case, we can create a new variable u that takes the same value as y but whose provenance (how it was created) has been wiped out. Thus u has no ancestors in the graph and gradients do not flow through u to x. For example, taking the gradient of z = x * u will yield the result x, (not 3 * x * x as you might have expected since z = x * x * x). We can take the gradient of z with respect to x by using `gradient` function."
   ]
  },
  {
   "cell_type": "code",
   "execution_count": 7,
   "id": "22a12bd1-98fd-442b-a936-387eebe1e555",
   "metadata": {},
   "outputs": [
    {
     "data": {
      "text/plain": [
       "true"
      ]
     },
     "execution_count": 7,
     "metadata": {},
     "output_type": "execute_result"
    }
   ],
   "source": [
    "y(x) = x.*x\n",
    "u = y(x)\n",
    "z(x) = x.*u\n",
    "\n",
    "first(gradient(x->sum(z(x)),x)) == y(x)"
   ]
  },
  {
   "cell_type": "markdown",
   "id": "b47a65ed-a0b2-4766-a051-785401bbd582",
   "metadata": {},
   "source": [
    "Note that while this procedure detaches y’s ancestors from the graph leading to z, the computational graph leading to y persists and thus we can calculate the gradient of y with respect to x."
   ]
  },
  {
   "cell_type": "code",
   "execution_count": 8,
   "id": "d3d3a898-6c90-4029-a6e2-42a51f75aeab",
   "metadata": {},
   "outputs": [
    {
     "data": {
      "text/plain": [
       "true"
      ]
     },
     "execution_count": 8,
     "metadata": {},
     "output_type": "execute_result"
    }
   ],
   "source": [
    "y'.(x) == 2x"
   ]
  },
  {
   "cell_type": "markdown",
   "id": "461df056-5bb1-4cbb-a878-d8de51d612ce",
   "metadata": {},
   "source": [
    "## Gradients and Julia Control Flow\n",
    "\n",
    "So far we reviewed cases where the path from input to output was well-defined via a function such as z = x * x * x. Programming offers us a lot more freedom in how we compute results. For instance, we can make them depend on auxiliary variables or condition choices on intermediate results. One benefit of using automatic differentiation is that even if building the computational graph of a function required passing through a maze of Julia control flow (e.g., conditionals, loops, and arbitrary function calls), we can still calculate the gradient of the resulting variable. To illustrate this, consider the following code snippet where the number of iterations of the while loop and the evaluation of the if statement both depend on the value of the input a."
   ]
  },
  {
   "cell_type": "code",
   "execution_count": 9,
   "id": "171e7727-de82-4845-bc3a-798faa9cf6ef",
   "metadata": {},
   "outputs": [
    {
     "data": {
      "text/plain": [
       "f (generic function with 1 method)"
      ]
     },
     "execution_count": 9,
     "metadata": {},
     "output_type": "execute_result"
    }
   ],
   "source": [
    "function f(a)\n",
    "    b = 2a\n",
    "    while norm(b) < 1000\n",
    "        b = 2b\n",
    "    end\n",
    "    c = sum(b) > 0 ? b : 100b\n",
    "    return c\n",
    "end"
   ]
  },
  {
   "cell_type": "markdown",
   "id": "e2e238e4-b70e-4aa7-b301-5bd32d7f7fea",
   "metadata": {},
   "source": [
    "Below, we call this function, passing in a random value as input. Since the input is a random variable, we do not know what form the computational graph will take. "
   ]
  },
  {
   "cell_type": "code",
   "execution_count": 10,
   "id": "ea8b276b-4331-49c8-b64a-1a7085a704a0",
   "metadata": {},
   "outputs": [
    {
     "data": {
      "text/plain": [
       "true"
      ]
     },
     "execution_count": 10,
     "metadata": {},
     "output_type": "execute_result"
    }
   ],
   "source": [
    "a = randn()\n",
    "f'.(a) == f(a)/a"
   ]
  },
  {
   "cell_type": "markdown",
   "id": "2bcec964-d3ca-4196-add7-25f511309f22",
   "metadata": {},
   "source": [
    "Dynamic control flow is very common in deep learning. For instance, when processing text, the computational graph depends on the length of the input. In these cases, automatic differentiation becomes vital for statistical modeling since it is impossible to compute the gradient a priori."
   ]
  }
 ],
 "metadata": {
  "kernelspec": {
   "display_name": "Julia 1.9.0",
   "language": "julia",
   "name": "julia-1.9"
  },
  "language_info": {
   "file_extension": ".jl",
   "mimetype": "application/julia",
   "name": "julia",
   "version": "1.9.0"
  }
 },
 "nbformat": 4,
 "nbformat_minor": 5
}
