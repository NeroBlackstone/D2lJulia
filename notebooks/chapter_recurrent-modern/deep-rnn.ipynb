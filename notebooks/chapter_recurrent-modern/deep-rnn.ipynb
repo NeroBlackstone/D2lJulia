{
 "cells": [
  {
   "cell_type": "markdown",
   "metadata": {
    "vscode": {
     "languageId": "julia"
    }
   },
   "source": [
    "# Deep Recurrent Neural Networks\n",
    "\n"
   ]
  }
 ],
 "metadata": {
  "language_info": {
   "name": "python"
  }
 },
 "nbformat": 4,
 "nbformat_minor": 2
}
