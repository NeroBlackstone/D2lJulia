{
 "cells": [
  {
   "cell_type": "markdown",
   "id": "6ce38799-3629-4a75-89ee-bdfb95a6bff3",
   "metadata": {},
   "source": [
    "# Concise Implementation of Linear Regression\n",
    "\n",
    "Deep learning has witnessed a Cambrian explosion of sorts over the past decade. The sheer number of techniques, applications and algorithms by far surpasses the progress of previous decades. This is due to a fortuitous combination of multiple factors, one of which is the powerful free tools offered by a number of open source deep learning frameworks. Theano (Bergstra et al., 2010), DistBelief (Dean et al., 2012), and Caffe (Jia et al., 2014) arguably represent the first generation of such models that found widespread adoption. In contrast to earlier (seminal) works like SN2 (Simulateur Neuristique) (Bottou and Le Cun, 1988), which provided a Lisp-like programming experience, modern frameworks offer automatic differentiation and the convenience of Julia. These frameworks allow us to automate and modularize the repetitive work of implementing gradient-based learning algorithms.\n",
    "\n",
    "In Section 3.4, we relied only on (i) tensors for data storage and linear algebra; and (ii) automatic differentiation for calculating gradients. In practice, because data iterators, loss functions, optimizers, and neural network layers are so common, modern libraries implement these components for us as well. In this section, we will show you how to implement the linear regression model from Section 3.4 concisely by using high-level APIs of deep learning frameworks.\n",
    "\n",
    "## Generating the Dataset\n",
    "\n",
    "For this example, we will work low-dimensional for succinctness. The following code snippet generates 1000 examples with 2-dimensional features drawn from a standard normal distribution. "
   ]
  },
  {
   "cell_type": "code",
   "execution_count": 1,
   "id": "7fefdba1-1393-46ff-8b98-0eb2f5530135",
   "metadata": {},
   "outputs": [
    {
     "data": {
      "text/plain": [
       "synthetic_data (generic function with 1 method)"
      ]
     },
     "execution_count": 1,
     "metadata": {},
     "output_type": "execute_result"
    }
   ],
   "source": [
    "using Distributions\n",
    "\n",
    "function synthetic_data(w::Vector{<:Real},b::Real,num_example::Int)\n",
    "    X = rand(Normal(0,1),num_example,length(w))\n",
    "    y = X * w .+ b\n",
    "    y += rand(Normal(0,0.01),size(y))\n",
    "    return X',y\n",
    "end"
   ]
  },
  {
   "cell_type": "markdown",
   "id": "38300e62-50d1-4566-aaf5-d589b79c4482",
   "metadata": {},
   "source": [
    "Later, we can check our estimated parameters against these ground truth values."
   ]
  },
  {
   "cell_type": "code",
   "execution_count": 2,
   "id": "4b60d498-4f00-429d-89f0-52738ac6aaf4",
   "metadata": {},
   "outputs": [
    {
     "data": {
      "text/plain": [
       "([0.5006953714114035 1.4278165842789703 … 2.6686629253301724 -0.5470407231072809; 1.1013609444195784 -0.8059628155679628 … 0.6777961748000622 1.9434748518640463], [1.4652014793459702, 9.806428240909254, 0.3565326564176827, 3.194371535492145, -0.9134768516893775, 3.1923506353899906, 3.921252857303777, 3.1402874931026026, -1.450671265814563, 1.0619568653777844  …  1.304614157970065, 5.653518363524242, -1.9093483481046456, 6.55398498746768, 8.175983252559547, 7.631529225782028, 6.4959758221852555, 7.392017066440783, 7.236007570818834, -3.5025616296615185])"
      ]
     },
     "execution_count": 2,
     "metadata": {},
     "output_type": "execute_result"
    }
   ],
   "source": [
    "features,labels = synthetic_data([2, -3.4],4.2,1000)"
   ]
  },
  {
   "cell_type": "markdown",
   "id": "0d1ed7e7-6ae7-4d0d-a7cb-057ccec325e0",
   "metadata": {},
   "source": [
    "Let’s have a look at the first entry."
   ]
  },
  {
   "cell_type": "code",
   "execution_count": 3,
   "id": "cbfe522c-14db-4fc7-b018-583d00544fcc",
   "metadata": {},
   "outputs": [
    {
     "name": "stdout",
     "output_type": "stream",
     "text": [
      "features:[0.5006953714114035, 1.1013609444195784]\n",
      "label:1.4652014793459702\n"
     ]
    }
   ],
   "source": [
    "println(\"features:$(features[:,1])\")\n",
    "println(\"label:$(labels[1])\")"
   ]
  },
  {
   "cell_type": "markdown",
   "id": "26d11fe8-aec2-4efb-b787-f07f72e6bd26",
   "metadata": {},
   "source": [
    "## Reading the Dataset\n",
    "\n",
    "To build some intuition, let’s inspect the first minibatch of data. Each minibatch of features provides us with both its size and the dimensionality of input features. Likewise, our minibatch of labels will have a matching shape given by `batch_size`."
   ]
  },
  {
   "cell_type": "code",
   "execution_count": 4,
   "id": "c41a01ae-f245-463b-997f-c4dd1558df0e",
   "metadata": {
    "scrolled": true
   },
   "outputs": [
    {
     "name": "stdout",
     "output_type": "stream",
     "text": [
      "X shape:(2, 10)\n",
      "y shape:(10,)\n"
     ]
    }
   ],
   "source": [
    "using MLUtils\n",
    "train_loader = DataLoader((features,labels),batchsize=10,shuffle=true)\n",
    "X,y = first(train_loader)\n",
    "println(\"X shape:$(size(X))\")\n",
    "println(\"y shape:$(size(y))\")"
   ]
  }
 ],
 "metadata": {
  "kernelspec": {
   "display_name": "Julia 1.9.0",
   "language": "julia",
   "name": "julia-1.9"
  },
  "language_info": {
   "file_extension": ".jl",
   "mimetype": "application/julia",
   "name": "julia",
   "version": "1.9.0"
  }
 },
 "nbformat": 4,
 "nbformat_minor": 5
}
