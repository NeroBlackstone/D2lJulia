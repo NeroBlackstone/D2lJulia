{
 "cells": [
  {
   "cell_type": "markdown",
   "id": "6ce38799-3629-4a75-89ee-bdfb95a6bff3",
   "metadata": {},
   "source": [
    "# Concise Implementation of Linear Regression\n",
    "\n",
    "Deep learning has witnessed a Cambrian explosion of sorts over the past decade. The sheer number of techniques, applications and algorithms by far surpasses the progress of previous decades. This is due to a fortuitous combination of multiple factors, one of which is the powerful free tools offered by a number of open source deep learning frameworks. Theano (Bergstra et al., 2010), DistBelief (Dean et al., 2012), and Caffe (Jia et al., 2014) arguably represent the first generation of such models that found widespread adoption. In contrast to earlier (seminal) works like SN2 (Simulateur Neuristique) (Bottou and Le Cun, 1988), which provided a Lisp-like programming experience, modern frameworks offer automatic differentiation and the convenience of Julia. These frameworks allow us to automate and modularize the repetitive work of implementing gradient-based learning algorithms.\n",
    "\n",
    "In practice, because data iterators, loss functions, optimizers, and neural network layers are so common, modern libraries implement these components for us as well. In this section, we will show you how to implement the linear regression model from Section 3.4 concisely by using high-level APIs of deep learning frameworks.\n",
    "\n",
    "## Generating the Dataset\n",
    "\n",
    "For this example, we will work low-dimensional for succinctness. The following code snippet generates 100 examples with 2-dimensional features drawn from a standard normal distribution. "
   ]
  },
  {
   "cell_type": "code",
   "execution_count": 1,
   "id": "7fefdba1-1393-46ff-8b98-0eb2f5530135",
   "metadata": {},
   "outputs": [
    {
     "data": {
      "text/plain": [
       "synthetic_data (generic function with 1 method)"
      ]
     },
     "execution_count": 1,
     "metadata": {},
     "output_type": "execute_result"
    }
   ],
   "source": [
    "using Distributions\n",
    "\n",
    "function synthetic_data(w::Vector{<:Real},b::Real,num_example::Int)\n",
    "    X = rand(Normal(0f0,1f0),(num_example,length(w)))\n",
    "    y = X * w .+ b\n",
    "    y += rand(Normal(0f0,0.01f0),(size(y)))\n",
    "    return X',reshape(y,(1,:))\n",
    "end"
   ]
  },
  {
   "cell_type": "markdown",
   "id": "38300e62-50d1-4566-aaf5-d589b79c4482",
   "metadata": {},
   "source": [
    "Later, we can check our estimated parameters against these ground truth values."
   ]
  },
  {
   "cell_type": "code",
   "execution_count": 2,
   "id": "4b60d498-4f00-429d-89f0-52738ac6aaf4",
   "metadata": {},
   "outputs": [
    {
     "data": {
      "text/plain": [
       "(Float32[-0.4412894 1.1683054 … 1.3911616 0.98486364; -0.9546863 0.6044618 … 0.8892765 0.543286], [6.5628222349681895 4.486395385302604 … 3.9511675149202348 4.3048679489642385])"
      ]
     },
     "execution_count": 2,
     "metadata": {},
     "output_type": "execute_result"
    }
   ],
   "source": [
    "true_w = [2,-3.4]\n",
    "true_b = 4.2\n",
    "features,labels = synthetic_data(true_w,true_b,100)"
   ]
  },
  {
   "cell_type": "markdown",
   "id": "0d1ed7e7-6ae7-4d0d-a7cb-057ccec325e0",
   "metadata": {},
   "source": [
    "Let’s have a look at the first entry."
   ]
  },
  {
   "cell_type": "code",
   "execution_count": 3,
   "id": "cbfe522c-14db-4fc7-b018-583d00544fcc",
   "metadata": {},
   "outputs": [
    {
     "name": "stdout",
     "output_type": "stream",
     "text": [
      "features:Float32[-0.4412894, -0.9546863]\n",
      "label:6.5628222349681895\n"
     ]
    }
   ],
   "source": [
    "println(\"features:$(features[:,1])\")\n",
    "println(\"label:$(labels[1])\")"
   ]
  },
  {
   "cell_type": "markdown",
   "id": "26d11fe8-aec2-4efb-b787-f07f72e6bd26",
   "metadata": {},
   "source": [
    "## Reading the Dataset\n",
    "\n",
    "To build some intuition, let’s inspect the first minibatch of data. Each minibatch of features provides us with both its size and the dimensionality of input features. Likewise, our minibatch of labels will have a matching shape given by `batch_size`."
   ]
  },
  {
   "cell_type": "code",
   "execution_count": 4,
   "id": "c41a01ae-f245-463b-997f-c4dd1558df0e",
   "metadata": {
    "scrolled": true
   },
   "outputs": [
    {
     "name": "stdout",
     "output_type": "stream",
     "text": [
      "X shape:(2, 10)\n",
      "y shape:(1, 10)\n"
     ]
    }
   ],
   "source": [
    "using MLUtils\n",
    "train_loader = DataLoader((features,labels),batchsize=10,shuffle=true)\n",
    "X,y = first(train_loader)\n",
    "println(\"X shape:$(size(X))\")\n",
    "println(\"y shape:$(size(y))\")"
   ]
  },
  {
   "cell_type": "markdown",
   "id": "82f93d6f-b4bf-42cf-a267-42ad0d81943d",
   "metadata": {},
   "source": [
    "## Defining the Model\n",
    "\n",
    "For standard operations, we can use a framework’s predefined layers, which allow us to focus on the layers used to construct the model rather than worrying about their implementation. Recall the architecture of a single-layer network as described in Fig. 3.1.2. The layer is called fully connected, since each of its inputs is connected to each of its outputs by means of a matrix-vector multiplication.\n",
    "\n",
    "In Flux, a `Dense(2 => 1)` layer denotes a layer of one neuron with two inputs (two feature) and one output. "
   ]
  },
  {
   "cell_type": "code",
   "execution_count": 5,
   "id": "2ed97383-1758-4de5-842e-d35e9c729bde",
   "metadata": {},
   "outputs": [
    {
     "data": {
      "text/plain": [
       "Dense(2 => 1)       \u001b[90m# 3 parameters\u001b[39m"
      ]
     },
     "execution_count": 5,
     "metadata": {},
     "output_type": "execute_result"
    }
   ],
   "source": [
    "using Flux\n",
    "model = Dense(2=>1)"
   ]
  },
  {
   "cell_type": "markdown",
   "id": "6e2405c1-b338-487a-9f1c-9c6621207762",
   "metadata": {},
   "source": [
    "## Defining the Loss Function"
   ]
  },
  {
   "cell_type": "markdown",
   "id": "c717e1ec-be46-4e88-b238-5a3b3dbc745a",
   "metadata": {},
   "source": [
    "The `Flux.mse` function computes the mean squared error. By default, `Flux.mse` returns the average loss over examples. It is faster (and easier to use) than implementing our own."
   ]
  },
  {
   "cell_type": "code",
   "execution_count": 6,
   "id": "c437690a-9ada-43f3-a5d6-ccef315aa63c",
   "metadata": {},
   "outputs": [
    {
     "data": {
      "text/plain": [
       "loss (generic function with 1 method)"
      ]
     },
     "execution_count": 6,
     "metadata": {},
     "output_type": "execute_result"
    }
   ],
   "source": [
    "loss(model,x,y) = Flux.mse(model(x),y)"
   ]
  },
  {
   "cell_type": "markdown",
   "id": "f48deafb-5c0b-4b51-a77e-f4a6258a9654",
   "metadata": {},
   "source": [
    "## Defining the Optimization Algorithm\n",
    "\n",
    "`Descent` is a classic gradient descent optimiser."
   ]
  },
  {
   "cell_type": "code",
   "execution_count": 7,
   "id": "8e44768f-7079-4e8c-b847-2d88fae63201",
   "metadata": {},
   "outputs": [
    {
     "data": {
      "text/plain": [
       "Descent(0.1)"
      ]
     },
     "execution_count": 7,
     "metadata": {},
     "output_type": "execute_result"
    }
   ],
   "source": [
    "opt = Descent()"
   ]
  },
  {
   "cell_type": "markdown",
   "id": "b2655b97-8105-4b5e-bdc9-85b8508a7a82",
   "metadata": {},
   "source": [
    "## Training\n",
    "\n",
    "You might have noticed that expressing our model through high-level APIs of a deep learning framework requires fewer lines of code. We did not have to allocate parameters individually, define our loss function, or implement gradient descent. Once we start working with much more complex models, the advantages of the high-level API will grow considerably. "
   ]
  },
  {
   "cell_type": "code",
   "execution_count": 8,
   "id": "abf947d7-47bd-4f65-b88a-59516e6ee05a",
   "metadata": {},
   "outputs": [
    {
     "name": "stdout",
     "output_type": "stream",
     "text": [
      "epoch 1, loss 0.381278 \n",
      "epoch 2, loss 0.007915 \n",
      "epoch 3, loss 0.000265 \n"
     ]
    }
   ],
   "source": [
    "using Printf\n",
    "num_epochs = 3\n",
    "for epoch in 1:num_epochs\n",
    "    for data in train_loader\n",
    "        Flux.train!(loss,model,[data],opt)\n",
    "    end\n",
    "    @printf \"epoch %i, loss %f \\n\" epoch loss(model,features,labels)\n",
    "end"
   ]
  },
  {
   "cell_type": "markdown",
   "id": "e15d884c-c9dc-4b91-9085-b53d7ad0dbca",
   "metadata": {},
   "source": [
    "Below, we compare the model parameters learned by training on finite data and the actual parameters that generated our dataset. To access parameters, we access the weights and bias of the layer that we need. Note that our estimated parameters are close to their true counterparts."
   ]
  },
  {
   "cell_type": "code",
   "execution_count": 9,
   "id": "aeeef2ff-e9b2-4f4e-94a9-d37b407da11b",
   "metadata": {},
   "outputs": [
    {
     "name": "stdout",
     "output_type": "stream",
     "text": [
      "error in estimating w:[-0.0016717910766601562, -0.0073896884918212]\n",
      "error in estimating b:0.00999946594238299\n"
     ]
    }
   ],
   "source": [
    "weight,bias = vec(model.weight),first(model.bias)\n",
    "println(\"error in estimating w:$(true_w - weight)\")\n",
    "println(\"error in estimating b:$(true_b - bias)\")"
   ]
  }
 ],
 "metadata": {
  "kernelspec": {
   "display_name": "Julia 1.9.1",
   "language": "julia",
   "name": "julia-1.9"
  },
  "language_info": {
   "file_extension": ".jl",
   "mimetype": "application/julia",
   "name": "julia",
   "version": "1.9.1"
  }
 },
 "nbformat": 4,
 "nbformat_minor": 5
}
