{
 "cells": [
  {
   "cell_type": "markdown",
   "id": "074bc00a-817f-4d9b-aabb-e4cbbda34a46",
   "metadata": {},
   "source": [
    "# Parameter Initialization\n",
    "\n",
    "Flux initialises convolutional layers and recurrent cells with `glorot_uniform` by default."
   ]
  },
  {
   "cell_type": "code",
   "execution_count": 44,
   "id": "9fa17917-0baa-4a0b-abf6-520f19f9d8a0",
   "metadata": {},
   "outputs": [
    {
     "data": {
      "text/plain": [
       "1×2 Matrix{Float32}:\n",
       " -0.0686923  -0.517646"
      ]
     },
     "execution_count": 44,
     "metadata": {},
     "output_type": "execute_result"
    }
   ],
   "source": [
    "using Flux\n",
    "\n",
    "x = rand(Float32,4,2)\n",
    "model = @autosize (size(x)[1],) Chain(Dense(_=>8),relu,Dense(_,1))\n",
    "model(x)"
   ]
  },
  {
   "cell_type": "markdown",
   "id": "1803471c-c1d8-42d7-bb80-9bfc632c1d6f",
   "metadata": {},
   "source": [
    "## Built-in Initialization\n",
    "\n",
    "Let’s begin by calling on built-in initializers. The code below initializes all weight parameters as Gaussian random variables with standard deviation 0.01, while bias parameters are cleared to zero."
   ]
  },
  {
   "cell_type": "code",
   "execution_count": null,
   "id": "6ce6b223-b27f-4856-acf7-0e8b67518ded",
   "metadata": {},
   "outputs": [],
   "source": []
  }
 ],
 "metadata": {
  "kernelspec": {
   "display_name": "Julia 1.9.1",
   "language": "julia",
   "name": "julia-1.9"
  },
  "language_info": {
   "file_extension": ".jl",
   "mimetype": "application/julia",
   "name": "julia",
   "version": "1.10.3"
  }
 },
 "nbformat": 4,
 "nbformat_minor": 5
}
